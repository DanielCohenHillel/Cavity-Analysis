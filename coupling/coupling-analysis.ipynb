{
 "cells": [
  {
   "cell_type": "markdown",
   "metadata": {},
   "source": [
    "# Comparing the Quality and Loess between a Full and a Half Tesla Cavity Using the EPR approach\n",
    "Calculation of resonant cavity quality factors, losses, life-time and more using the EPR method. This code is based on [Ansys HFSS](https://www.ansys.com/products/electronics/ansys-hfss) and the [pyEPR library](https://github.com/zlatko-minev/pyEPR).\n",
    "\n",
    "The cavity is half of a [Tesla cavity](https://arxiv.org/pdf/physics/0003011.pdf), this will be usefule in a later notebook where we compare the full Tesla cavity to our (half Tesla) cavity."
   ]
  },
  {
   "cell_type": "markdown",
   "metadata": {},
   "source": [
    "## Modes\n",
    "| mode |  object  |\n",
    "|:-----:|----------|\n",
    "|   0   | transmon |\n",
    "|   1   | cavity   |\n",
    "|   2   | cavity   |\n",
    "|   3   | cavity   |\n",
    "|   4   | readout  |\n"
   ]
  },
  {
   "cell_type": "markdown",
   "metadata": {},
   "source": [
    "#### Imports"
   ]
  },
  {
   "cell_type": "code",
   "execution_count": 1,
   "metadata": {},
   "outputs": [],
   "source": [
    "%load_ext autoreload\n",
    "%autoreload 2\n",
    "%config IPCompleter.greedy = True"
   ]
  },
  {
   "cell_type": "code",
   "execution_count": 2,
   "metadata": {},
   "outputs": [],
   "source": [
    "import sys\n",
    "import numpy as np\n",
    "from IPython.display import display, Math, Latex, display_markdown\n",
    "from pathlib import Path\n",
    "import pandas as pd\n",
    "from scipy import constants\n",
    "\n",
    "import pyEPR as epr\n",
    "from pyEPR.calcs import Convert\n",
    "from pyEPR.core import *\n",
    "from pyEPR.ansys import *\n",
    "import warnings\n",
    "warnings.simplefilter(\"ignore\")"
   ]
  },
  {
   "cell_type": "code",
   "execution_count": 3,
   "metadata": {},
   "outputs": [],
   "source": [
    "path_to_project = 'D:\\\\Users\\\\Daniel\\\\Cavity-Analysis\\\\coupling'\n",
    "# path_to_project = '.'"
   ]
  },
  {
   "cell_type": "markdown",
   "metadata": {},
   "source": [
    "## 👉 Half Cavity\n",
    "We start with the interesting one, the half cavity. This is the cavity we're going to be using and we want to check that it isn't that much worse than the full Tesla cavity."
   ]
  },
  {
   "cell_type": "markdown",
   "metadata": {},
   "source": [
    "### 🔷 Mode analysis"
   ]
  },
  {
   "cell_type": "markdown",
   "metadata": {},
   "source": [
    "#### 🔹 Connect to HFSS"
   ]
  },
  {
   "cell_type": "code",
   "execution_count": 4,
   "metadata": {},
   "outputs": [
    {
     "name": "stderr",
     "output_type": "stream",
     "text": [
      "INFO 09:44PM [connect]: Connecting to Ansys Desktop API...\n",
      "INFO 09:44PM [load_ansys_project]: \tFile path to HFSS project found.\n",
      "INFO 09:44PM [load_ansys_project]: \tOpened Ansys App\n",
      "INFO 09:44PM [load_ansys_project]: \tOpened Ansys Desktop v2020.1.0\n",
      "INFO 09:44PM [load_ansys_project]: \tOpened Ansys Project\n",
      "\tFolder:    D:/Users/Daniel/Cavity-Analysis/coupling/\n",
      "\tProject:   coupling\n",
      "INFO 09:44PM [connect]: \tOpened active design\n",
      "\tDesign:    design [Solution type: Eigenmode]\n",
      "INFO 09:44PM [get_setup]: \tOpened setup `Setup1`  (<class 'pyEPR.ansys.HfssEMSetup'>)\n",
      "INFO 09:44PM [connect]: \tConnection to Ansys established successfully. 😀 \n",
      "\n"
     ]
    }
   ],
   "source": [
    "pinfo = epr.Project_Info(project_path = path_to_project, \n",
    "                         project_name = 'coupling',\n",
    "                         design_name  = 'design')"
   ]
  },
  {
   "cell_type": "markdown",
   "metadata": {},
   "source": [
    "### pad-RO gap"
   ]
  },
  {
   "cell_type": "code",
   "execution_count": 5,
   "metadata": {},
   "outputs": [
    {
     "name": "stderr",
     "output_type": "stream",
     "text": [
      "INFO 09:44PM [<module>]: Setting sweep variable ro_gap=0.5mm\n",
      "INFO 09:44PM [analyze]: Analyzing setup Setup1\n",
      "INFO 09:44PM [<module>]: Setting sweep variable ro_gap=1.0mm\n",
      "INFO 09:44PM [analyze]: Analyzing setup Setup1\n",
      "INFO 09:45PM [<module>]: Setting sweep variable ro_gap=1.5mm\n",
      "INFO 09:45PM [analyze]: Analyzing setup Setup1\n",
      "INFO 09:46PM [<module>]: Setting sweep variable ro_gap=2.0mm\n",
      "INFO 09:46PM [analyze]: Analyzing setup Setup1\n"
     ]
    }
   ],
   "source": [
    "swp_var = 'ro_gap'  # Sweep ove 'ro_gap'\n",
    "to_swp_val = lambda x: f'{x}mm' \n",
    "\n",
    "for swp_param in np.linspace(0.5, 2, 4):\n",
    "    swp_val = to_swp_val(swp_param)\n",
    "    epr.logger.info(f'Setting sweep variable {swp_var}={swp_val}')\n",
    "    pinfo.project.set_variable(swp_var, swp_val)\n",
    "    pinfo.setup.analyze()\n",
    "# pinfo.setup.analyze()"
   ]
  },
  {
   "cell_type": "code",
   "execution_count": 6,
   "metadata": {},
   "outputs": [],
   "source": [
    "pinfo.junctions['j1'] = {'Lj_variable' : 'Lj_1',\n",
    "                         'rect'        : 'rect_jj1', \n",
    "                         'line'        : 'line_jj1', \n",
    "                         'length'      : epr.parse_units('100um')}\n",
    "\n",
    "\n",
    "# Check that valid names of variables and objects have been supplied.\n",
    "# An error is raised with a message if something is wrong.\n",
    "pinfo.validate_junction_info()"
   ]
  },
  {
   "cell_type": "code",
   "execution_count": 7,
   "metadata": {},
   "outputs": [
    {
     "name": "stdout",
     "output_type": "stream",
     "text": [
      "Design \"design\" info:\n",
      "\t# eigenmodes    5\n",
      "\t# variations    7\n"
     ]
    }
   ],
   "source": [
    "eprh = epr.DistributedAnalysis(pinfo)"
   ]
  },
  {
   "cell_type": "code",
   "execution_count": 8,
   "metadata": {},
   "outputs": [
    {
     "name": "stdout",
     "output_type": "stream",
     "text": [
      "\n",
      "Variation 0  [1/7]\n",
      "\n",
      "  \u001b[1mMode 0 at 4.49 GHz   [1/5]\u001b[0m\n",
      "    Calculating ℰ_magnetic,ℰ_electric\n",
      "       (ℰ_E-ℰ_H)/ℰ_E       ℰ_E       ℰ_H\n",
      "               96.6%  1.302e-24 4.381e-26\n",
      "\n",
      "    Calculating junction energy participation ration (EPR)\n",
      "\tmethod=`line_voltage`. First estimates:\n",
      "\tjunction        EPR p_0j   sign s_0j    (p_capacitive)\n",
      "\t\tEnergy fraction (Lj over Lj&Cj)= 98.74%\n",
      "\tj1              0.964126  (+)        0.0122956\n",
      "\t\t(U_tot_cap-U_tot_ind)/mean=0.72%\n",
      "\n",
      "  \u001b[1mMode 4 at 7.60 GHz   [5/5]\u001b[0m\n",
      "    Calculating ℰ_magnetic,ℰ_electric\n",
      "       (ℰ_E-ℰ_H)/ℰ_E       ℰ_E       ℰ_H\n",
      "                3.0%  5.095e-23 4.944e-23\n",
      "\n",
      "    Calculating junction energy participation ration (EPR)\n",
      "\tmethod=`line_voltage`. First estimates:\n",
      "\tjunction        EPR p_4j   sign s_4j    (p_capacitive)\n",
      "\t\tEnergy fraction (Lj over Lj&Cj)= 96.48%\n",
      "\tj1              0.00842922  (+)        0.000307636\n",
      "\t\t(U_tot_cap-U_tot_ind)/mean=1.10%\n",
      "\n",
      "Variation 1  [2/7]\n",
      "\n",
      "  \u001b[1mMode 0 at 4.56 GHz   [1/5]\u001b[0m\n",
      "    Calculating ℰ_magnetic,ℰ_electric\n",
      "       (ℰ_E-ℰ_H)/ℰ_E       ℰ_E       ℰ_H\n",
      "               97.1%   4.15e-24 1.187e-25\n",
      "\n",
      "    Calculating junction energy participation ration (EPR)\n",
      "\tmethod=`line_voltage`. First estimates:\n",
      "\tjunction        EPR p_0j   sign s_0j    (p_capacitive)\n",
      "\t\tEnergy fraction (Lj over Lj&Cj)= 98.70%\n",
      "\tj1              0.968695  (+)        0.0127119\n",
      "\t\t(U_tot_cap-U_tot_ind)/mean=0.77%\n",
      "\n",
      "  \u001b[1mMode 4 at 7.61 GHz   [5/5]\u001b[0m\n",
      "    Calculating ℰ_magnetic,ℰ_electric\n",
      "       (ℰ_E-ℰ_H)/ℰ_E       ℰ_E       ℰ_H\n",
      "                2.7%  3.684e-22 3.586e-22\n",
      "\n",
      "    Calculating junction energy participation ration (EPR)\n",
      "\tmethod=`line_voltage`. First estimates:\n",
      "\tjunction        EPR p_4j   sign s_4j    (p_capacitive)\n",
      "\t\tEnergy fraction (Lj over Lj&Cj)= 96.47%\n",
      "\tj1              0.00391719  (+)        0.000143314\n",
      "\t\t(U_tot_cap-U_tot_ind)/mean=1.15%\n",
      "\n",
      "Variation 2  [3/7]\n",
      "\n",
      "  \u001b[1mMode 0 at 4.55 GHz   [1/5]\u001b[0m\n",
      "    Calculating ℰ_magnetic,ℰ_electric\n",
      "       (ℰ_E-ℰ_H)/ℰ_E       ℰ_E       ℰ_H\n",
      "               97.3%   2.99e-24 8.192e-26\n",
      "\n",
      "    Calculating junction energy participation ration (EPR)\n",
      "\tmethod=`line_voltage`. First estimates:\n",
      "\tjunction        EPR p_0j   sign s_0j    (p_capacitive)\n",
      "\t\tEnergy fraction (Lj over Lj&Cj)= 98.71%\n",
      "\tj1              0.969892  (+)        0.0126869\n",
      "\t\t(U_tot_cap-U_tot_ind)/mean=0.77%\n",
      "\n",
      "  \u001b[1mMode 4 at 7.61 GHz   [5/5]\u001b[0m\n",
      "    Calculating ℰ_magnetic,ℰ_electric\n",
      "       (ℰ_E-ℰ_H)/ℰ_E       ℰ_E       ℰ_H\n",
      "                2.3%  5.349e-22 5.228e-22\n",
      "\n",
      "    Calculating junction energy participation ration (EPR)\n",
      "\tmethod=`line_voltage`. First estimates:\n",
      "\tjunction        EPR p_4j   sign s_4j    (p_capacitive)\n",
      "\t\tEnergy fraction (Lj over Lj&Cj)= 96.47%\n",
      "\tj1              0.00195276  (+)        7.15183e-05\n",
      "\t\t(U_tot_cap-U_tot_ind)/mean=1.05%\n",
      "\n",
      "Variation 3  [4/7]\n",
      "\n",
      "  \u001b[1mMode 0 at 4.54 GHz   [1/5]\u001b[0m\n",
      "    Calculating ℰ_magnetic,ℰ_electric\n",
      "       (ℰ_E-ℰ_H)/ℰ_E       ℰ_E       ℰ_H\n",
      "               97.5%  2.018e-24 5.134e-26\n",
      "\n",
      "    Calculating junction energy participation ration (EPR)\n",
      "\tmethod=`line_voltage`. First estimates:\n",
      "\tjunction        EPR p_0j   sign s_0j    (p_capacitive)\n",
      "\t\tEnergy fraction (Lj over Lj&Cj)= 98.71%\n",
      "\tj1              0.971791  (+)        0.0126685\n",
      "\t\t(U_tot_cap-U_tot_ind)/mean=0.77%\n",
      "\n",
      "  \u001b[1mMode 4 at 7.61 GHz   [5/5]\u001b[0m\n",
      "    Calculating ℰ_magnetic,ℰ_electric\n",
      "       (ℰ_E-ℰ_H)/ℰ_E       ℰ_E       ℰ_H\n",
      "                2.2%  6.485e-22 6.345e-22\n",
      "\n",
      "    Calculating junction energy participation ration (EPR)\n",
      "\tmethod=`line_voltage`. First estimates:\n",
      "\tjunction        EPR p_4j   sign s_4j    (p_capacitive)\n",
      "\t\tEnergy fraction (Lj over Lj&Cj)= 96.47%\n",
      "\tj1              0.000955591  (+)        3.49657e-05\n",
      "\t\t(U_tot_cap-U_tot_ind)/mean=1.05%\n",
      "\n",
      "Variation 4  [5/7]\n",
      "\n",
      "  \u001b[1mMode 0 at 4.54 GHz   [1/5]\u001b[0m\n",
      "    Calculating ℰ_magnetic,ℰ_electric\n",
      "       (ℰ_E-ℰ_H)/ℰ_E       ℰ_E       ℰ_H\n",
      "               97.5%  2.018e-24 5.134e-26\n",
      "\n",
      "    Calculating junction energy participation ration (EPR)\n",
      "\tmethod=`line_voltage`. First estimates:\n",
      "\tjunction        EPR p_0j   sign s_0j    (p_capacitive)\n",
      "\t\tEnergy fraction (Lj over Lj&Cj)= 98.71%\n",
      "\tj1              0.971791  (+)        0.0126685\n",
      "\t\t(U_tot_cap-U_tot_ind)/mean=0.77%\n",
      "\n",
      "  \u001b[1mMode 4 at 7.61 GHz   [5/5]\u001b[0m\n",
      "    Calculating ℰ_magnetic,ℰ_electric\n",
      "       (ℰ_E-ℰ_H)/ℰ_E       ℰ_E       ℰ_H\n",
      "                2.2%  6.485e-22 6.345e-22\n",
      "\n",
      "    Calculating junction energy participation ration (EPR)\n",
      "\tmethod=`line_voltage`. First estimates:\n",
      "\tjunction        EPR p_4j   sign s_4j    (p_capacitive)\n",
      "\t\tEnergy fraction (Lj over Lj&Cj)= 96.47%\n",
      "\tj1              0.000955591  (+)        3.49657e-05\n",
      "\t\t(U_tot_cap-U_tot_ind)/mean=1.05%\n",
      "\n",
      "Variation 5  [6/7]\n",
      "\n",
      "  \u001b[1mMode 0 at 4.54 GHz   [1/5]\u001b[0m\n",
      "    Calculating ℰ_magnetic,ℰ_electric\n",
      "       (ℰ_E-ℰ_H)/ℰ_E       ℰ_E       ℰ_H\n",
      "               97.5%  2.018e-24 5.134e-26\n",
      "\n",
      "    Calculating junction energy participation ration (EPR)\n",
      "\tmethod=`line_voltage`. First estimates:\n",
      "\tjunction        EPR p_0j   sign s_0j    (p_capacitive)\n",
      "\t\tEnergy fraction (Lj over Lj&Cj)= 98.71%\n",
      "\tj1              0.971791  (+)        0.0126685\n",
      "\t\t(U_tot_cap-U_tot_ind)/mean=0.77%\n",
      "\n",
      "  \u001b[1mMode 4 at 7.61 GHz   [5/5]\u001b[0m\n",
      "    Calculating ℰ_magnetic,ℰ_electric\n",
      "       (ℰ_E-ℰ_H)/ℰ_E       ℰ_E       ℰ_H\n",
      "                2.2%  6.485e-22 6.345e-22\n",
      "\n",
      "    Calculating junction energy participation ration (EPR)\n",
      "\tmethod=`line_voltage`. First estimates:\n",
      "\tjunction        EPR p_4j   sign s_4j    (p_capacitive)\n",
      "\t\tEnergy fraction (Lj over Lj&Cj)= 96.47%\n",
      "\tj1              0.000955591  (+)        3.49657e-05\n",
      "\t\t(U_tot_cap-U_tot_ind)/mean=1.05%\n",
      "\n",
      "Variation 6  [7/7]\n",
      "\n",
      "  \u001b[1mMode 0 at 4.54 GHz   [1/5]\u001b[0m\n",
      "    Calculating ℰ_magnetic,ℰ_electric\n",
      "       (ℰ_E-ℰ_H)/ℰ_E       ℰ_E       ℰ_H\n",
      "               97.5%  2.018e-24 5.134e-26\n",
      "\n",
      "    Calculating junction energy participation ration (EPR)\n",
      "\tmethod=`line_voltage`. First estimates:\n",
      "\tjunction        EPR p_0j   sign s_0j    (p_capacitive)\n",
      "\t\tEnergy fraction (Lj over Lj&Cj)= 98.71%\n",
      "\tj1              0.971791  (+)        0.0126685\n",
      "\t\t(U_tot_cap-U_tot_ind)/mean=0.77%\n",
      "\n",
      "  \u001b[1mMode 4 at 7.61 GHz   [5/5]\u001b[0m\n",
      "    Calculating ℰ_magnetic,ℰ_electric\n",
      "       (ℰ_E-ℰ_H)/ℰ_E       ℰ_E       ℰ_H\n",
      "                2.2%  6.485e-22 6.345e-22\n",
      "\n",
      "    Calculating junction energy participation ration (EPR)\n",
      "\tmethod=`line_voltage`. First estimates:\n",
      "\tjunction        EPR p_4j   sign s_4j    (p_capacitive)\n",
      "\t\tEnergy fraction (Lj over Lj&Cj)= 96.47%\n",
      "\tj1              0.000955591  (+)        3.49657e-05\n",
      "\t\t(U_tot_cap-U_tot_ind)/mean=1.05%\n",
      "\n",
      "ANALYSIS DONE. Data saved to:\n",
      "\n",
      "D:\\data-pyEPR\\coupling\\design\\2020-05-19 21-46-30.npz\n",
      "\n",
      "\n"
     ]
    }
   ],
   "source": [
    "eprh.do_EPR_analysis(modes=[0,4]);"
   ]
  },
  {
   "cell_type": "code",
   "execution_count": 9,
   "metadata": {},
   "outputs": [
    {
     "name": "stdout",
     "output_type": "stream",
     "text": [
      "\t Differences in variations:\n"
     ]
    },
    {
     "data": {
      "text/html": [
       "<div>\n",
       "<style scoped>\n",
       "    .dataframe tbody tr th:only-of-type {\n",
       "        vertical-align: middle;\n",
       "    }\n",
       "\n",
       "    .dataframe tbody tr th {\n",
       "        vertical-align: top;\n",
       "    }\n",
       "\n",
       "    .dataframe thead th {\n",
       "        text-align: right;\n",
       "    }\n",
       "</style>\n",
       "<table border=\"1\" class=\"dataframe\">\n",
       "  <thead>\n",
       "    <tr style=\"text-align: right;\">\n",
       "      <th>variation</th>\n",
       "      <th>0</th>\n",
       "      <th>1</th>\n",
       "      <th>2</th>\n",
       "      <th>3</th>\n",
       "      <th>4</th>\n",
       "      <th>5</th>\n",
       "      <th>6</th>\n",
       "    </tr>\n",
       "  </thead>\n",
       "  <tbody>\n",
       "    <tr>\n",
       "      <th>_$ro_gap</th>\n",
       "      <td>0.5mm</td>\n",
       "      <td>1mm</td>\n",
       "      <td>1.5mm</td>\n",
       "      <td>2mm</td>\n",
       "      <td>0.5mm</td>\n",
       "      <td>1mm</td>\n",
       "      <td>1.5mm</td>\n",
       "    </tr>\n",
       "    <tr>\n",
       "      <th>_ro_gap</th>\n",
       "      <td>0.5mm</td>\n",
       "      <td>1mm</td>\n",
       "      <td>1.5mm</td>\n",
       "      <td>2mm</td>\n",
       "      <td>2mm</td>\n",
       "      <td>2mm</td>\n",
       "      <td>2mm</td>\n",
       "    </tr>\n",
       "  </tbody>\n",
       "</table>\n",
       "</div>"
      ],
      "text/plain": [
       "variation      0    1      2    3      4    5      6\n",
       "_$ro_gap   0.5mm  1mm  1.5mm  2mm  0.5mm  1mm  1.5mm\n",
       "_ro_gap    0.5mm  1mm  1.5mm  2mm    2mm  2mm    2mm"
      ]
     },
     "metadata": {},
     "output_type": "display_data"
    },
    {
     "name": "stdout",
     "output_type": "stream",
     "text": [
      "\n",
      "\n",
      "\n",
      " . . . . . . . . . . . . . . . . . . . . . . . . . . . . . . . . . . . . . . . . \n",
      "Variation 0\n",
      "\n",
      "Starting the diagonalization\n",
      "Finished the diagonalization\n",
      "Pm_norm=\n",
      "modes\n",
      "0    1.014820\n",
      "4    2.311961\n",
      "dtype: float64\n",
      "\n",
      "Pm_norm idx =\n",
      "      j1\n",
      "0   True\n",
      "4  False\n",
      "\n",
      "*** Different parameters\n"
     ]
    },
    {
     "data": {
      "text/plain": [
       "_$ro_gap    0.5mm\n",
       "_ro_gap     0.5mm\n",
       "Name: 0, dtype: object"
      ]
     },
     "metadata": {},
     "output_type": "display_data"
    },
    {
     "name": "stdout",
     "output_type": "stream",
     "text": [
      "\n",
      "\n",
      "*** P (participation matrix, not normlz.)\n",
      "         j1\n",
      "0  0.952416\n",
      "4  0.008427\n",
      "\n",
      "*** S (sign-bit matrix)\n",
      "   s_j1\n",
      "0     1\n",
      "4     1\n",
      "*** P (participation matrix, normalized.)\n",
      "      0.97\n",
      "    0.0084\n",
      "\n",
      "*** Chi matrix O1 PT (MHz)\n",
      "    Diag is anharmonicity, off diag is full cross-Kerr.\n",
      "       115      3.4\n",
      "       3.4   0.0251\n",
      "\n",
      "*** Chi matrix ND (MHz) \n",
      "       123     3.23\n",
      "      3.23   0.0222\n",
      "\n",
      "*** Frequencies O1 PT (MHz)\n",
      "0    4376.239072\n",
      "1    7599.526246\n",
      "dtype: float64\n",
      "\n",
      "*** Frequencies ND (MHz)\n",
      "0    4372.959363\n",
      "1    7599.542598\n",
      "dtype: float64\n",
      "\n",
      "*** Q_coupling\n",
      "Empty DataFrame\n",
      "Columns: []\n",
      "Index: [0, 4]\n",
      "\n",
      " . . . . . . . . . . . . . . . . . . . . . . . . . . . . . . . . . . . . . . . . \n",
      "Variation 1\n",
      "\n",
      "Starting the diagonalization\n",
      "Finished the diagonalization\n",
      "Pm_norm=\n",
      "modes\n",
      "0    1.015695\n",
      "4    3.956376\n",
      "dtype: float64\n",
      "\n",
      "Pm_norm idx =\n",
      "      j1\n",
      "0   True\n",
      "4  False\n",
      "\n",
      "*** Different parameters\n"
     ]
    },
    {
     "data": {
      "text/plain": [
       "_$ro_gap    1mm\n",
       "_ro_gap     1mm\n",
       "Name: 1, dtype: object"
      ]
     },
     "metadata": {},
     "output_type": "display_data"
    },
    {
     "name": "stdout",
     "output_type": "stream",
     "text": [
      "\n",
      "\n",
      "*** P (participation matrix, not normlz.)\n",
      "         j1\n",
      "0  0.956536\n",
      "4  0.003917\n",
      "\n",
      "*** S (sign-bit matrix)\n",
      "   s_j1\n",
      "0     1\n",
      "4     1\n",
      "*** P (participation matrix, normalized.)\n",
      "      0.97\n",
      "    0.0039\n",
      "\n",
      "*** Chi matrix O1 PT (MHz)\n",
      "    Diag is anharmonicity, off diag is full cross-Kerr.\n",
      "       120     1.62\n",
      "      1.62  0.00544\n",
      "\n",
      "*** Chi matrix ND (MHz) \n",
      "       128     1.53\n",
      "      1.53  0.00478\n",
      "\n",
      "*** Frequencies O1 PT (MHz)\n",
      "0    4437.194074\n",
      "1    7609.766145\n",
      "dtype: float64\n",
      "\n",
      "*** Frequencies ND (MHz)\n",
      "0    4433.796616\n",
      "1    7609.775105\n",
      "dtype: float64\n",
      "\n",
      "*** Q_coupling\n",
      "Empty DataFrame\n",
      "Columns: []\n",
      "Index: [0, 4]\n",
      "\n",
      " . . . . . . . . . . . . . . . . . . . . . . . . . . . . . . . . . . . . . . . . \n",
      "Variation 2\n",
      "\n",
      "Starting the diagonalization\n",
      "Finished the diagonalization\n",
      "Pm_norm=\n",
      "modes\n",
      "0    1.015655\n",
      "4    6.364569\n",
      "dtype: float64\n",
      "\n",
      "Pm_norm idx =\n",
      "      j1\n",
      "0   True\n",
      "4  False\n",
      "\n",
      "*** Different parameters\n"
     ]
    },
    {
     "data": {
      "text/plain": [
       "_$ro_gap    1.5mm\n",
       "_ro_gap     1.5mm\n",
       "Name: 2, dtype: object"
      ]
     },
     "metadata": {},
     "output_type": "display_data"
    },
    {
     "name": "stdout",
     "output_type": "stream",
     "text": [
      "\n",
      "\n",
      "*** P (participation matrix, not normlz.)\n",
      "         j1\n",
      "0  0.957741\n",
      "4  0.001953\n",
      "\n",
      "*** S (sign-bit matrix)\n",
      "   s_j1\n",
      "0     1\n",
      "4     1\n",
      "*** P (participation matrix, normalized.)\n",
      "      0.97\n",
      "     0.002\n",
      "\n",
      "*** Chi matrix O1 PT (MHz)\n",
      "    Diag is anharmonicity, off diag is full cross-Kerr.\n",
      "       120    0.805\n",
      "     0.805  0.00135\n",
      "\n",
      "*** Chi matrix ND (MHz) \n",
      "       128    0.761\n",
      "     0.761  0.00119\n",
      "\n",
      "*** Frequencies O1 PT (MHz)\n",
      "0    4430.398622\n",
      "1    7614.146050\n",
      "dtype: float64\n",
      "\n",
      "*** Frequencies ND (MHz)\n",
      "0    4427.049027\n",
      "1    7614.150419\n",
      "dtype: float64\n",
      "\n",
      "*** Q_coupling\n",
      "Empty DataFrame\n",
      "Columns: []\n",
      "Index: [0, 4]\n",
      "\n",
      " . . . . . . . . . . . . . . . . . . . . . . . . . . . . . . . . . . . . . . . . \n",
      "Variation 3\n",
      "\n",
      "Starting the diagonalization\n",
      "Finished the diagonalization\n",
      "Pm_norm=\n",
      "modes\n",
      "0     1.015684\n",
      "4    11.958356\n",
      "dtype: float64\n",
      "\n",
      "Pm_norm idx =\n",
      "      j1\n",
      "0   True\n",
      "4  False\n",
      "\n",
      "*** Different parameters\n"
     ]
    },
    {
     "data": {
      "text/plain": [
       "_$ro_gap    2mm\n",
       "_ro_gap     2mm\n",
       "Name: 3, dtype: object"
      ]
     },
     "metadata": {},
     "output_type": "display_data"
    },
    {
     "name": "stdout",
     "output_type": "stream",
     "text": [
      "\n",
      "\n",
      "*** P (participation matrix, not normlz.)\n",
      "         j1\n",
      "0  0.959634\n",
      "4  0.000956\n",
      "\n",
      "*** S (sign-bit matrix)\n",
      "   s_j1\n",
      "0     1\n",
      "4     1\n",
      "*** P (participation matrix, normalized.)\n",
      "      0.97\n",
      "   0.00096\n",
      "\n",
      "*** Chi matrix O1 PT (MHz)\n",
      "    Diag is anharmonicity, off diag is full cross-Kerr.\n",
      "       120    0.394\n",
      "     0.394 0.000324\n",
      "\n",
      "*** Chi matrix ND (MHz) \n",
      "       128    0.373\n",
      "     0.373 0.000285\n",
      "\n",
      "*** Frequencies O1 PT (MHz)\n",
      "0    4422.793687\n",
      "1    7610.866029\n",
      "dtype: float64\n",
      "\n",
      "*** Frequencies ND (MHz)\n",
      "0    4419.452986\n",
      "1    7610.868134\n",
      "dtype: float64\n",
      "\n",
      "*** Q_coupling\n",
      "Empty DataFrame\n",
      "Columns: []\n",
      "Index: [0, 4]\n",
      "\n",
      " . . . . . . . . . . . . . . . . . . . . . . . . . . . . . . . . . . . . . . . . \n",
      "Variation 4\n",
      "\n",
      "Starting the diagonalization\n",
      "Finished the diagonalization\n",
      "Pm_norm=\n",
      "modes\n",
      "0     1.015684\n",
      "4    11.958356\n",
      "dtype: float64\n",
      "\n",
      "Pm_norm idx =\n",
      "      j1\n",
      "0   True\n",
      "4  False\n",
      "\n",
      "*** Different parameters\n"
     ]
    },
    {
     "data": {
      "text/plain": [
       "_$ro_gap    0.5mm\n",
       "_ro_gap       2mm\n",
       "Name: 4, dtype: object"
      ]
     },
     "metadata": {},
     "output_type": "display_data"
    },
    {
     "name": "stdout",
     "output_type": "stream",
     "text": [
      "\n",
      "\n",
      "*** P (participation matrix, not normlz.)\n",
      "         j1\n",
      "0  0.959634\n",
      "4  0.000956\n",
      "\n",
      "*** S (sign-bit matrix)\n",
      "   s_j1\n",
      "0     1\n",
      "4     1\n",
      "*** P (participation matrix, normalized.)\n",
      "      0.97\n",
      "   0.00096\n",
      "\n",
      "*** Chi matrix O1 PT (MHz)\n",
      "    Diag is anharmonicity, off diag is full cross-Kerr.\n",
      "       120    0.394\n",
      "     0.394 0.000324\n",
      "\n",
      "*** Chi matrix ND (MHz) \n",
      "       128    0.373\n",
      "     0.373 0.000285\n",
      "\n",
      "*** Frequencies O1 PT (MHz)\n",
      "0    4422.793687\n",
      "1    7610.866029\n",
      "dtype: float64\n",
      "\n",
      "*** Frequencies ND (MHz)\n",
      "0    4419.452986\n",
      "1    7610.868134\n",
      "dtype: float64\n",
      "\n",
      "*** Q_coupling\n",
      "Empty DataFrame\n",
      "Columns: []\n",
      "Index: [0, 4]\n",
      "\n",
      " . . . . . . . . . . . . . . . . . . . . . . . . . . . . . . . . . . . . . . . . \n",
      "Variation 5\n",
      "\n",
      "Starting the diagonalization\n",
      "Finished the diagonalization\n",
      "Pm_norm=\n",
      "modes\n",
      "0     1.015684\n",
      "4    11.958356\n",
      "dtype: float64\n",
      "\n",
      "Pm_norm idx =\n",
      "      j1\n",
      "0   True\n",
      "4  False\n",
      "\n",
      "*** Different parameters\n"
     ]
    },
    {
     "data": {
      "text/plain": [
       "_$ro_gap    1mm\n",
       "_ro_gap     2mm\n",
       "Name: 5, dtype: object"
      ]
     },
     "metadata": {},
     "output_type": "display_data"
    },
    {
     "name": "stdout",
     "output_type": "stream",
     "text": [
      "\n",
      "\n",
      "*** P (participation matrix, not normlz.)\n",
      "         j1\n",
      "0  0.959634\n",
      "4  0.000956\n",
      "\n",
      "*** S (sign-bit matrix)\n",
      "   s_j1\n",
      "0     1\n",
      "4     1\n",
      "*** P (participation matrix, normalized.)\n",
      "      0.97\n",
      "   0.00096\n",
      "\n",
      "*** Chi matrix O1 PT (MHz)\n",
      "    Diag is anharmonicity, off diag is full cross-Kerr.\n",
      "       120    0.394\n",
      "     0.394 0.000324\n",
      "\n",
      "*** Chi matrix ND (MHz) \n",
      "       128    0.373\n",
      "     0.373 0.000285\n",
      "\n",
      "*** Frequencies O1 PT (MHz)\n",
      "0    4422.793687\n",
      "1    7610.866029\n",
      "dtype: float64\n",
      "\n",
      "*** Frequencies ND (MHz)\n",
      "0    4419.452986\n",
      "1    7610.868134\n",
      "dtype: float64\n",
      "\n",
      "*** Q_coupling\n",
      "Empty DataFrame\n",
      "Columns: []\n",
      "Index: [0, 4]\n",
      "\n",
      " . . . . . . . . . . . . . . . . . . . . . . . . . . . . . . . . . . . . . . . . \n",
      "Variation 6\n",
      "\n",
      "Starting the diagonalization\n",
      "Finished the diagonalization\n",
      "Pm_norm=\n",
      "modes\n",
      "0     1.015684\n",
      "4    11.958356\n",
      "dtype: float64\n",
      "\n",
      "Pm_norm idx =\n",
      "      j1\n",
      "0   True\n",
      "4  False\n",
      "\n",
      "*** Different parameters\n"
     ]
    },
    {
     "data": {
      "text/plain": [
       "_$ro_gap    1.5mm\n",
       "_ro_gap       2mm\n",
       "Name: 6, dtype: object"
      ]
     },
     "metadata": {},
     "output_type": "display_data"
    },
    {
     "name": "stdout",
     "output_type": "stream",
     "text": [
      "\n",
      "\n",
      "*** P (participation matrix, not normlz.)\n",
      "         j1\n",
      "0  0.959634\n",
      "4  0.000956\n",
      "\n",
      "*** S (sign-bit matrix)\n",
      "   s_j1\n",
      "0     1\n",
      "4     1\n",
      "*** P (participation matrix, normalized.)\n",
      "      0.97\n",
      "   0.00096\n",
      "\n",
      "*** Chi matrix O1 PT (MHz)\n",
      "    Diag is anharmonicity, off diag is full cross-Kerr.\n",
      "       120    0.394\n",
      "     0.394 0.000324\n",
      "\n",
      "*** Chi matrix ND (MHz) \n",
      "       128    0.373\n",
      "     0.373 0.000285\n",
      "\n",
      "*** Frequencies O1 PT (MHz)\n",
      "0    4422.793687\n",
      "1    7610.866029\n",
      "dtype: float64\n",
      "\n",
      "*** Frequencies ND (MHz)\n",
      "0    4419.452986\n",
      "1    7610.868134\n",
      "dtype: float64\n",
      "\n",
      "*** Q_coupling\n",
      "Empty DataFrame\n",
      "Columns: []\n",
      "Index: [0, 4]\n"
     ]
    }
   ],
   "source": [
    "epra = epr.QuantumAnalysis(eprh.data_filename)\n",
    "epra.analyze_all_variations(cos_trunc = 8, fock_trunc = 15);"
   ]
  },
  {
   "cell_type": "code",
   "execution_count": 12,
   "metadata": {},
   "outputs": [
    {
     "data": {
      "text/plain": [
       "(<Figure size 720x432 with 4 Axes>,\n",
       " array([[<matplotlib.axes._subplots.AxesSubplot object at 0x000001AB62D03E80>,\n",
       "         <matplotlib.axes._subplots.AxesSubplot object at 0x000001AB6BE696D0>],\n",
       "        [<matplotlib.axes._subplots.AxesSubplot object at 0x000001AB6BF173A0>,\n",
       "         <matplotlib.axes._subplots.AxesSubplot object at 0x000001AB6BF39820>]],\n",
       "       dtype=object))"
      ]
     },
     "execution_count": 12,
     "metadata": {},
     "output_type": "execute_result"
    },
    {
     "data": {
      "image/png": "[encoded data removed]",
      "text/plain": [
       "<Figure size 720x432 with 4 Axes>"
      ]
     },
     "metadata": {
      "needs_background": "light"
     },
     "output_type": "display_data"
    }
   ],
   "source": [
    "epra.plot_hamiltonian_results();"
   ]
  },
  {
   "cell_type": "markdown",
   "metadata": {},
   "source": [
    "#### 🔹 Get HFSS mode and quality results"
   ]
  },
  {
   "cell_type": "code",
   "execution_count": 10,
   "metadata": {},
   "outputs": [
    {
     "data": {
      "text/html": [
       "<div>\n",
       "<style scoped>\n",
       "    .dataframe tbody tr th:only-of-type {\n",
       "        vertical-align: middle;\n",
       "    }\n",
       "\n",
       "    .dataframe tbody tr th {\n",
       "        vertical-align: top;\n",
       "    }\n",
       "\n",
       "    .dataframe thead th {\n",
       "        text-align: right;\n",
       "    }\n",
       "</style>\n",
       "<table border=\"1\" class=\"dataframe\">\n",
       "  <thead>\n",
       "    <tr style=\"text-align: right;\">\n",
       "      <th></th>\n",
       "      <th>Freq. (GHz)</th>\n",
       "      <th>Quality Factor</th>\n",
       "    </tr>\n",
       "    <tr>\n",
       "      <th>mode</th>\n",
       "      <th></th>\n",
       "      <th></th>\n",
       "    </tr>\n",
       "  </thead>\n",
       "  <tbody>\n",
       "    <tr>\n",
       "      <th>0</th>\n",
       "      <td>4.493326</td>\n",
       "      <td>9.981263e+05</td>\n",
       "    </tr>\n",
       "    <tr>\n",
       "      <th>1</th>\n",
       "      <td>4.849261</td>\n",
       "      <td>5.716968e+10</td>\n",
       "    </tr>\n",
       "    <tr>\n",
       "      <th>2</th>\n",
       "      <td>7.031634</td>\n",
       "      <td>5.873285e+07</td>\n",
       "    </tr>\n",
       "    <tr>\n",
       "      <th>3</th>\n",
       "      <td>7.033778</td>\n",
       "      <td>6.987834e+08</td>\n",
       "    </tr>\n",
       "    <tr>\n",
       "      <th>4</th>\n",
       "      <td>7.601253</td>\n",
       "      <td>1.018629e+05</td>\n",
       "    </tr>\n",
       "  </tbody>\n",
       "</table>\n",
       "</div>"
      ],
      "text/plain": [
       "      Freq. (GHz)  Quality Factor\n",
       "mode                             \n",
       "0        4.493326    9.981263e+05\n",
       "1        4.849261    5.716968e+10\n",
       "2        7.031634    5.873285e+07\n",
       "3        7.033778    6.987834e+08\n",
       "4        7.601253    1.018629e+05"
      ]
     },
     "metadata": {},
     "output_type": "display_data"
    }
   ],
   "source": [
    "modes      = eprh.get_freqs_bare_pd(eprh.variations[0])\n",
    "Fs, Qs     = np.array(modes['Freq. (GHz)']), np.array(modes['Quality Factor'])  # Get freqs and Q-factors\n",
    "n_modes    = int(pinfo.setup.n_modes)\n",
    "display(modes)"
   ]
  },
  {
   "cell_type": "markdown",
   "metadata": {},
   "source": [
    "#### 🔹 Calculate the EPRs of the modes"
   ]
  },
  {
   "cell_type": "code",
   "execution_count": 11,
   "metadata": {},
   "outputs": [
    {
     "ename": "com_error",
     "evalue": "(-2147352567, 'Exception occurred.', (0, None, None, None, 0, -2147024365), None)",
     "output_type": "error",
     "traceback": [
      "\u001b[1;31m---------------------------------------------------------------------------\u001b[0m",
      "\u001b[1;31mcom_error\u001b[0m                                 Traceback (most recent call last)",
      "\u001b[1;32m<ipython-input-11-d62cbaa5fd11>\u001b[0m in \u001b[0;36m<module>\u001b[1;34m\u001b[0m\n\u001b[0;32m      1\u001b[0m \u001b[0meprh\u001b[0m\u001b[1;33m.\u001b[0m\u001b[0mset_mode\u001b[0m\u001b[1;33m(\u001b[0m\u001b[1;36m0\u001b[0m\u001b[1;33m)\u001b[0m\u001b[1;33m\u001b[0m\u001b[1;33m\u001b[0m\u001b[0m\n\u001b[1;32m----> 2\u001b[1;33m \u001b[0mp_cavity\u001b[0m\u001b[1;33m,\u001b[0m \u001b[1;33m(\u001b[0m\u001b[0mℰ_cav\u001b[0m\u001b[1;33m,\u001b[0m \u001b[0mℰ_total\u001b[0m\u001b[1;33m)\u001b[0m \u001b[1;33m=\u001b[0m \u001b[0meprh\u001b[0m\u001b[1;33m.\u001b[0m\u001b[0mcalc_p_electric_volume\u001b[0m\u001b[1;33m(\u001b[0m\u001b[1;34m'cavity'\u001b[0m\u001b[1;33m)\u001b[0m\u001b[1;33m\u001b[0m\u001b[1;33m\u001b[0m\u001b[0m\n\u001b[0m\u001b[0;32m      3\u001b[0m \u001b[0mp_dirt\u001b[0m\u001b[1;33m,\u001b[0m  \u001b[1;33m(\u001b[0m\u001b[0mℰ_dirt\u001b[0m\u001b[1;33m,\u001b[0m \u001b[0mℰ_total\u001b[0m\u001b[1;33m)\u001b[0m \u001b[1;33m=\u001b[0m \u001b[0meprh\u001b[0m\u001b[1;33m.\u001b[0m\u001b[0mcalc_p_electric_volume\u001b[0m\u001b[1;33m(\u001b[0m\u001b[1;34m'dirt'\u001b[0m\u001b[1;33m)\u001b[0m\u001b[1;33m\u001b[0m\u001b[1;33m\u001b[0m\u001b[0m\n\u001b[0;32m      4\u001b[0m \u001b[1;33m\u001b[0m\u001b[0m\n\u001b[0;32m      5\u001b[0m \u001b[0mprint\u001b[0m\u001b[1;33m(\u001b[0m\u001b[1;34mf' 🔸 Energy in cavity = {100*p_cavity:.3f}% -> {ℰ_cav:0.2e} of the total energy in the system'\u001b[0m\u001b[1;33m)\u001b[0m\u001b[1;33m\u001b[0m\u001b[1;33m\u001b[0m\u001b[0m\n",
      "\u001b[1;32mD:\\Users\\Daniel\\pyEPR\\pyEPR\\core_distributed_analysis.py\u001b[0m in \u001b[0;36mcalc_p_electric_volume\u001b[1;34m(self, name_dielectric3D, relative_to, E_total)\u001b[0m\n\u001b[0;32m    653\u001b[0m \u001b[1;33m\u001b[0m\u001b[0m\n\u001b[0;32m    654\u001b[0m         \u001b[0mlogger\u001b[0m\u001b[1;33m.\u001b[0m\u001b[0mdebug\u001b[0m\u001b[1;33m(\u001b[0m\u001b[1;34m'Calculating ℰ_object'\u001b[0m\u001b[1;33m)\u001b[0m\u001b[1;33m\u001b[0m\u001b[1;33m\u001b[0m\u001b[0m\n\u001b[1;32m--> 655\u001b[1;33m         \u001b[0mℰ_object\u001b[0m \u001b[1;33m=\u001b[0m \u001b[0mself\u001b[0m\u001b[1;33m.\u001b[0m\u001b[0mcalc_energy_electric\u001b[0m\u001b[1;33m(\u001b[0m\u001b[0mvolume\u001b[0m\u001b[1;33m=\u001b[0m\u001b[0mname_dielectric3D\u001b[0m\u001b[1;33m)\u001b[0m\u001b[1;33m\u001b[0m\u001b[1;33m\u001b[0m\u001b[0m\n\u001b[0m\u001b[0;32m    656\u001b[0m \u001b[1;33m\u001b[0m\u001b[0m\n\u001b[0;32m    657\u001b[0m         \u001b[1;32mreturn\u001b[0m \u001b[0mℰ_object\u001b[0m\u001b[1;33m/\u001b[0m\u001b[0mℰ_total\u001b[0m\u001b[1;33m,\u001b[0m \u001b[1;33m(\u001b[0m\u001b[0mℰ_object\u001b[0m\u001b[1;33m,\u001b[0m \u001b[0mℰ_total\u001b[0m\u001b[1;33m)\u001b[0m\u001b[1;33m\u001b[0m\u001b[1;33m\u001b[0m\u001b[0m\n",
      "\u001b[1;32mD:\\Users\\Daniel\\pyEPR\\pyEPR\\core_distributed_analysis.py\u001b[0m in \u001b[0;36mcalc_energy_electric\u001b[1;34m(self, variation, volume, smooth)\u001b[0m\n\u001b[0;32m    596\u001b[0m \u001b[1;33m\u001b[0m\u001b[0m\n\u001b[0;32m    597\u001b[0m         \u001b[0mlv\u001b[0m \u001b[1;33m=\u001b[0m \u001b[0mself\u001b[0m\u001b[1;33m.\u001b[0m\u001b[0m_get_lv\u001b[0m\u001b[1;33m(\u001b[0m\u001b[0mvariation\u001b[0m\u001b[1;33m)\u001b[0m\u001b[1;33m\u001b[0m\u001b[1;33m\u001b[0m\u001b[0m\n\u001b[1;32m--> 598\u001b[1;33m         \u001b[1;32mreturn\u001b[0m \u001b[0mA\u001b[0m\u001b[1;33m.\u001b[0m\u001b[0mevaluate\u001b[0m\u001b[1;33m(\u001b[0m\u001b[0mlv\u001b[0m\u001b[1;33m=\u001b[0m\u001b[0mlv\u001b[0m\u001b[1;33m)\u001b[0m\u001b[1;33m\u001b[0m\u001b[1;33m\u001b[0m\u001b[0m\n\u001b[0m\u001b[0;32m    599\u001b[0m \u001b[1;33m\u001b[0m\u001b[0m\n\u001b[0;32m    600\u001b[0m     def calc_energy_magnetic(self,\n",
      "\u001b[1;32mD:\\Users\\Daniel\\pyEPR\\pyEPR\\ansys.py\u001b[0m in \u001b[0;36mevaluate\u001b[1;34m(self, phase, lv, print_debug)\u001b[0m\n\u001b[0;32m   2750\u001b[0m \u001b[1;33m\u001b[0m\u001b[0m\n\u001b[0;32m   2751\u001b[0m     \u001b[1;32mdef\u001b[0m \u001b[0mevaluate\u001b[0m\u001b[1;33m(\u001b[0m\u001b[0mself\u001b[0m\u001b[1;33m,\u001b[0m \u001b[0mphase\u001b[0m\u001b[1;33m=\u001b[0m\u001b[1;36m0\u001b[0m\u001b[1;33m,\u001b[0m \u001b[0mlv\u001b[0m\u001b[1;33m=\u001b[0m\u001b[1;32mNone\u001b[0m\u001b[1;33m,\u001b[0m \u001b[0mprint_debug\u001b[0m\u001b[1;33m=\u001b[0m\u001b[1;32mFalse\u001b[0m\u001b[1;33m)\u001b[0m\u001b[1;33m:\u001b[0m  \u001b[1;31m# , n_mode=1):\u001b[0m\u001b[1;33m\u001b[0m\u001b[1;33m\u001b[0m\u001b[0m\n\u001b[1;32m-> 2752\u001b[1;33m         \u001b[0mself\u001b[0m\u001b[1;33m.\u001b[0m\u001b[0mwrite_stack\u001b[0m\u001b[1;33m(\u001b[0m\u001b[1;33m)\u001b[0m\u001b[1;33m\u001b[0m\u001b[1;33m\u001b[0m\u001b[0m\n\u001b[0m\u001b[0;32m   2753\u001b[0m         \u001b[1;32mif\u001b[0m \u001b[0mprint_debug\u001b[0m\u001b[1;33m:\u001b[0m\u001b[1;33m\u001b[0m\u001b[1;33m\u001b[0m\u001b[0m\n\u001b[0;32m   2754\u001b[0m             \u001b[0mprint\u001b[0m\u001b[1;33m(\u001b[0m\u001b[1;34m'---------------------'\u001b[0m\u001b[1;33m)\u001b[0m\u001b[1;33m\u001b[0m\u001b[1;33m\u001b[0m\u001b[0m\n",
      "\u001b[1;32mD:\\Users\\Daniel\\pyEPR\\pyEPR\\ansys.py\u001b[0m in \u001b[0;36mwrite_stack\u001b[1;34m(self)\u001b[0m\n\u001b[0;32m   2740\u001b[0m                 \u001b[0mgetattr\u001b[0m\u001b[1;33m(\u001b[0m\u001b[0mself\u001b[0m\u001b[1;33m.\u001b[0m\u001b[0mcalc_module\u001b[0m\u001b[1;33m,\u001b[0m \u001b[0mfn\u001b[0m\u001b[1;33m)\u001b[0m\u001b[1;33m(\u001b[0m\u001b[1;33m*\u001b[0m\u001b[0marg\u001b[0m\u001b[1;33m)\u001b[0m\u001b[1;33m\u001b[0m\u001b[1;33m\u001b[0m\u001b[0m\n\u001b[0;32m   2741\u001b[0m             \u001b[1;32melse\u001b[0m\u001b[1;33m:\u001b[0m\u001b[1;33m\u001b[0m\u001b[1;33m\u001b[0m\u001b[0m\n\u001b[1;32m-> 2742\u001b[1;33m                 \u001b[0mgetattr\u001b[0m\u001b[1;33m(\u001b[0m\u001b[0mself\u001b[0m\u001b[1;33m.\u001b[0m\u001b[0mcalc_module\u001b[0m\u001b[1;33m,\u001b[0m \u001b[0mfn\u001b[0m\u001b[1;33m)\u001b[0m\u001b[1;33m(\u001b[0m\u001b[0marg\u001b[0m\u001b[1;33m)\u001b[0m\u001b[1;33m\u001b[0m\u001b[1;33m\u001b[0m\u001b[0m\n\u001b[0m\u001b[0;32m   2743\u001b[0m \u001b[1;33m\u001b[0m\u001b[0m\n\u001b[0;32m   2744\u001b[0m     \u001b[1;32mdef\u001b[0m \u001b[0msave_as\u001b[0m\u001b[1;33m(\u001b[0m\u001b[0mself\u001b[0m\u001b[1;33m,\u001b[0m \u001b[0mname\u001b[0m\u001b[1;33m)\u001b[0m\u001b[1;33m:\u001b[0m\u001b[1;33m\u001b[0m\u001b[1;33m\u001b[0m\u001b[0m\n",
      "\u001b[1;32m~\\Anaconda3\\envs\\lab\\lib\\site-packages\\win32com\\client\\dynamic.py\u001b[0m in \u001b[0;36mEnterVol\u001b[1;34m(self, geomName)\u001b[0m\n",
      "\u001b[1;31mcom_error\u001b[0m: (-2147352567, 'Exception occurred.', (0, None, None, None, 0, -2147024365), None)"
     ]
    }
   ],
   "source": [
    "eprh.set_mode(0)\n",
    "p_cavity, (ℰ_cav, ℰ_total) = eprh.calc_p_electric_volume('cavity')\n",
    "p_dirt,  (ℰ_dirt, ℰ_total) = eprh.calc_p_electric_volume('dirt')\n",
    "\n",
    "print(f' 🔸 Energy in cavity = {100*p_cavity:.3f}% -> {ℰ_cav:0.2e} of the total energy in the system')\n",
    "print(f' 🔸 Energy in dirt   = {100*p_dirt:.3f}% -> {ℰ_dirt:0.2e} of the total energy in the system')\n",
    "print(f' 🔸 Total energy     = {ℰ_total:0.2e}')"
   ]
  },
  {
   "cell_type": "markdown",
   "metadata": {},
   "source": [
    "### 🔷 Life-times"
   ]
  },
  {
   "cell_type": "markdown",
   "metadata": {},
   "source": [
    "**Life-time from HFSS**\n",
    "\n",
    "Life time of a mode inside the cavity. Since in this exampole the cavity is *perfect*, the life time would be infinite"
   ]
  },
  {
   "cell_type": "code",
   "execution_count": null,
   "metadata": {},
   "outputs": [],
   "source": [
    "Fs_Hz  = np.array(Convert.toSI(Fs,'GHz'))  # Mode freqs in Hz\n",
    "omegas = 2*np.pi*Fs_Hz                     # Freqs to angular freqs\n",
    "taus   = Qs/omegas                         # Life times\n",
    "\n",
    "print(f' 🔸 Life-time of mode = {taus[0]*1e3:.3f} ms')  # Should be inf since no resistive boundry and just inside a vacuum"
   ]
  },
  {
   "cell_type": "markdown",
   "metadata": {},
   "source": [
    "**Life-time from EPR**\n",
    "\n",
    "Life time calculation with the EPR method. This is highly dependent on the loss tangent of the dirt and cavity."
   ]
  },
  {
   "cell_type": "code",
   "execution_count": null,
   "metadata": {},
   "outputs": [],
   "source": [
    "tan_dirt   = 4e-7                                         # Loss tangent of dirt\n",
    "\n",
    "tau_epr    = lambda p, tan, omega: 1/(p*tan*omega)        # Easily calculate life time with EPR\n",
    "\n",
    "tau_cavity = tau_epr(p_dirt, 0, omegas)[0]\n",
    "tau_dirt   = tau_epr(p_cavity, tan_dirt, omegas)[0]\n",
    "\n",
    "print(f' 🔸 Cavity life-time = {tau_cavity*1e6:.2f} ns')  # Should be infinite since the cavity is a pefect vacum\n",
    "print(f' 🔸 Dirt life-time   = {tau_dirt*1e6:.2f} ns')"
   ]
  },
  {
   "cell_type": "markdown",
   "metadata": {},
   "source": [
    "### 🔷 Losses"
   ]
  },
  {
   "cell_type": "markdown",
   "metadata": {},
   "source": [
    "#### 🔹 Surface loss\n",
    "\n",
    "Calculating the energy precentage near the cavity walls by the surface integral. The total energy of the electromagnetic field at a layer of thickness `dirt_widht` would be approximated as:\n",
    "$$\\text{E}_{\\text{cavity, boundry}} \\approx \\text{dirt_width} \\cdot \\int_{S_{cavity}} |E|^2$$\n",
    "$$\\text{E}_{\\text{cavity, volume}} = \\int_{V_{cavity}} |E|^2$$\n",
    "\n",
    "$$\\text{EPR}_{\\text{cavity, boundry}} \\approx \\frac{\\text{E}_{\\text{cavity, boundry}}}{\\text{E}_{\\text{cavity, volume}}}$$"
   ]
  },
  {
   "cell_type": "markdown",
   "metadata": {},
   "source": [
    "First we'll setup a dictionary to store all the data"
   ]
  },
  {
   "cell_type": "code",
   "execution_count": null,
   "metadata": {},
   "outputs": [],
   "source": [
    "data = {\n",
    "    \"half\":{\n",
    "        \"volume\":{\n",
    "            \n",
    "        },\n",
    "        \"surface\":{\n",
    "           \n",
    "        }\n",
    "    },\n",
    "    \"full\":{\n",
    "        \"volume\":{\n",
    "          \n",
    "        },\n",
    "        \"surface\":{\n",
    "           \n",
    "        }\n",
    "    }\n",
    "}"
   ]
  },
  {
   "cell_type": "code",
   "execution_count": null,
   "metadata": {},
   "outputs": [],
   "source": [
    "dirt_width = 0.1e-3\n",
    "eps        = 1\n",
    "tan_surf   = 5e-3\n",
    "\n",
    "eprh.set_mode(0)\n",
    "\n",
    "# --- Surface integral ---\n",
    "surf = 'cavity'\n",
    "calcobject = CalcObject([], eprh.setup)\n",
    "vecE = calcobject.getQty(\"E\").smooth()\n",
    "A = vecE.times_eps()\n",
    "B = vecE.conj()\n",
    "A = A.dot(B)\n",
    "A = A.real()\n",
    "A = A.integrate_surf(name=surf)\n",
    "\n",
    "E_subs = A.evaluate(lv=eprh._get_lv()) \n",
    "E_surf = E_subs*dirt_width*eps\n",
    "\n",
    "# --- Volume integral ---\n",
    "E_total = eprh.calc_energy_electric(smooth=True)\n",
    "\n",
    "p_surf = E_surf/E_total      # EPR of surface \n",
    "Q_surf = 1/tan_surf/p_surf   # Q-fact of surface\n",
    "tau_surf = Q_surf/omegas[0]  #  Life-time of surface\n",
    "\n",
    "data['half']['surface'] = {\n",
    "    \"EPR\": p_surf,\n",
    "    \"Q\":   Q_surf,\n",
    "    \"tau\":  tau_surf\n",
    "}\n",
    "\n",
    "print(f' 🔸 EPR surface       = {100*p_surf:.2f}%')\n",
    "print(f' 🔸 Q-factor surface  = {Q_surf:.2e}')\n",
    "print(f' 🔸 Life-time surface = {tau_surf:.2e} seconds \\n')\n"
   ]
  },
  {
   "cell_type": "markdown",
   "metadata": {},
   "source": [
    "#### 🔹 Dirt (volume) loss"
   ]
  },
  {
   "cell_type": "code",
   "execution_count": null,
   "metadata": {},
   "outputs": [],
   "source": [
    "# Dirt is simulated as much thicker than it actually is (for computation reason). \n",
    "# Beacuase of that we reduce the loss tangent to an 'effective loss tangent' which is loss_tan*thick_factor\n",
    "p_dirt, (ℰ_dirt, ℰ_total) = eprh.calc_p_electric_volume('dirt')\n",
    "Q_dirt = 1/(tan_surf*p_dirt)\n",
    "tau_dirt = Q_dirt/omegas[0]\n",
    "\n",
    "data['half']['volume'] = {\n",
    "    \"EPR\": p_dirt,\n",
    "    \"Q\":   Q_dirt,\n",
    "    \"tau\": tau_dirt\n",
    "}\n",
    "\n",
    "print(f'  🔸 EPR of dirt    = {100*p_dirt:0.2f}% ( {ℰ_dirt:.2e} / {ℰ_total:.2e} )')\n",
    "print(f'  🔸 Quality factor = {Q_dirt:0.2e}')\n",
    "print(f'  🔸 life time      = {tau_dirt:0.2e} seconds\\n')"
   ]
  },
  {
   "cell_type": "markdown",
   "metadata": {},
   "source": [
    "### Figure what which mode is which"
   ]
  },
  {
   "cell_type": "code",
   "execution_count": null,
   "metadata": {},
   "outputs": [],
   "source": [
    "Es = []\n",
    "for i in range(int(pinfo.setup.n_modes)):\n",
    "    eprh.set_mode(i)\n",
    "\n",
    "    calcobject = CalcObject([], eprh.setup)\n",
    "    vecE   = calcobject.getQty(\"E\").smooth()\n",
    "    A      = vecE.times_eps()\n",
    "    B      = vecE.conj()\n",
    "    A      = A.dot(B)\n",
    "    A      = A.real()\n",
    "    ro     = A.integrate_surf(name='readout')\n",
    "    cav    = A.integrate_vol(name='cavity')\n",
    "    pad1   = A.integrate_surf(name='pad')\n",
    "    pad2   = A.integrate_surf(name='pad_antenna')\n",
    "    \n",
    "    E_ro   = ro.evaluate(lv=eprh._get_lv()) \n",
    "    E_cav  = cav.evaluate(lv=eprh._get_lv()) \n",
    "    E_pad1 = pad1.evaluate(lv=eprh._get_lv()) \n",
    "    E_pad2 = pad2.evaluate(lv=eprh._get_lv()) \n",
    "    \n",
    "    E = np.array([E_ro, E_cav, E_pad1, E_pad2])\n",
    "    names = ['readout', 'cavity', 'transmon/pad', 'transmon/pad+antenna']\n",
    "    print(i, ' --> ', names[np.argmax(E)])"
   ]
  }
 ],
 "metadata": {
  "kernelspec": {
   "display_name": "Python 3",
   "language": "python",
   "name": "python3"
  },
  "language_info": {
   "codemirror_mode": {
    "name": "ipython",
    "version": 3
   },
   "file_extension": ".py",
   "mimetype": "text/x-python",
   "name": "python",
   "nbconvert_exporter": "python",
   "pygments_lexer": "ipython3",
   "version": "3.8.1"
  }
 },
 "nbformat": 4,
 "nbformat_minor": 4
}
