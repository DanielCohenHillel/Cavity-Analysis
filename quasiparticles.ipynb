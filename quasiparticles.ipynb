{
 "cells": [
  {
   "cell_type": "markdown",
   "metadata": {},
   "source": [
    "# Transmon relaxetion and cavity dephasing induced by quasiparticles in the superconductor\n",
    "\n",
    "The transmon is constructed from a superconductor and uses the josephson effect to add non-linearities to the system.\n",
    "One limiting feature of this design is quasiparticle induced noise.\n",
    "\n",
    "## Relaxetion\n",
    "\n",
    "Starting with the easy-to-calculate part of the problem is the relaxetion of the qubit due to the quasiparticles. We want to calculate\n",
    "$\\tau_{e \\rightarrow g} = \\frac{1}{\\Gamma_{e \\rightarrow g}}$ (relaxetion time from the excited to ground state). From Catelani's paper,\n",
    "the relexetion time between an initial state $\\lvert i \\rangle$ and final state $ \\lvert f \\rangle$ due to the quasiparticles is given by:\n",
    "\n",
    "$$\\Gamma_{i \\rightarrow f} \\vert \\langle f \\lvert \\sin{\\frac{\\hat{\\phi}}{2}} \\lvert i \\rangle \\lvert\\ S_{qp} (\\omega_{if})$$\n",
    "\n",
    "With\n",
    "\n",
    "$$S_{qp} (\\omega) = \\frac{16 E_j}{\\pi} \\int_0^\\infty \\frac{1}{\\sqrt{x}\\sqrt{x+\\omega/\\Delta}} \\lbrack f_E((1+x)\\Delta) (1-f_E((1+x)\\Delta+\\omega)) \\rbrack dx$$\n",
    "\n",
    "Here $f_E(\\epsilon)$ is the energy distribiution function. At low temperatures $T \\ll \\Delta$ and thermal equilibrium we can approximate it as\n",
    "$f_E(\\epsilon) = e^{-\\epsilon/T}$, which would reduce the expression of $S_{qp}$ to\n",
    "\n",
    "$$S_{qp} = \\frac{16 E_j}{\\pi} e^{\\Delta/T}e^{\\omega/2T}K_0 \\left( \\frac{|\\omega|}{2T} \\right)$$\n",
    "\n",
    "...\n",
    "\n",
    "### Weakly anharmonic qubit\n",
    "\n",
    "$$\\Gamma_{n \\rightarrow n-1} = n\\frac{\\omega_p^2}{\\omega_{10}} \\frac{x_{qp}}{2\\pi} \\sqrt{\\frac{2\\Delta}{\\omega_{10}}}(1+\\cos{\\phi_0})$$\n",
    "\n",
    "$$\\omega_p = \\sqrt{8 E_C E_J}$$\n",
    "\n",
    "$$\\omega_{10} = \\sqrt{8E_C (E_L + E_J\\cos{\\phi_0})}$$\n",
    "\n",
    "From nature paper:\n",
    "\n",
    "$$\\Gamma = x_{qp} \\frac{\\omega}{\\pi}\\sqrt{\\frac{2\\Delta}{\\hbar\\omega}}$$"
   ]
  },
  {
   "cell_type": "code",
   "execution_count": 17,
   "metadata": {},
   "outputs": [],
   "source": [
    "import numpy as np\n",
    "import matplotlib.pyplot as plt\n",
    "import qutip as qt\n",
    "from scipy.special import kn\n",
    "\n",
    "plt.style.use('ggplot')"
   ]
  },
  {
   "cell_type": "code",
   "execution_count": 117,
   "metadata": {},
   "outputs": [
    {
     "name": "stdout",
     "output_type": "stream",
     "text": [
      "\u001b[1m\u001b[34mCalculated:\u001b[0m\n",
      "->\u001b[1m Decay-rate\u001b[0m = 1.54e-03 1/us\n",
      "->\u001b[1m Lifetime\u001b[0m   = 0.65 ms\n",
      "->\u001b[1m Qubit-freq\u001b[0m = 6.35 GHz\n",
      "\n",
      "\u001b[1m\u001b[34mGiven:\u001b[0m\n",
      "->\u001b[1m delta\u001b[0m = 0.000758296\n",
      "->\u001b[1m Ec\u001b[0m    = 341.0 MHz\n",
      "->\u001b[1m Ej\u001b[0m    = 14.79 Ghz\n",
      "->\u001b[1m El\u001b[0m    = 0 MHz\n",
      "->\u001b[1m x_qp\u001b[0m  = 4e-08\n",
      "->\u001b[1m phi0\u001b[0m  = 0\n",
      "->\u001b[1m w_p\u001b[0m   = 6.35 GHz\n",
      "\n"
     ]
    }
   ],
   "source": [
    "k = 8.617e-5     # eV/K\n",
    "hbar = 6.58e-10  # eV us\n",
    "\n",
    "# k = 1\n",
    "# hbar = 1\n",
    "\n",
    "Tc = 5\n",
    "\n",
    "delta = 1.76*k*Tc\n",
    "T     = 20e-3\n",
    "Ej    = 14.79e3  # MHz\n",
    "El    = 0\n",
    "Ec    = 341.0    # MHz\n",
    "phi0  = 0\n",
    "n     = 1\n",
    "x_qp  = 4e-8  # x_qp ~ 10^-6, worst case scenerio x_qp < 10^-4\n",
    "\n",
    "w10 = np.sqrt(8*Ec*(El+Ej*np.cos(phi0)))\n",
    "wp  = np.sqrt(8*Ec*Ej)\n",
    "\n",
    "# w10 = np.linspace(10,20,1000)\n",
    "\n",
    "\n",
    "gamma = n*((wp**2)/w10)*(x_qp/(2*np.pi))*np.sqrt(2*delta/(w10*hbar))*(1+np.cos(phi0))\n",
    "\n",
    "gamma = (w10*x_qp/np.pi)*np.sqrt(2*delta/(hbar*w10))\n",
    "\n",
    "\n",
    "# S = (16*Ej/np.pi)*np.exp(delta/T)*np.exp(omega/(2*T))*kn(0, np.abs(omega)/(2*T))\n",
    "\n",
    "# plt.figure(figsize=(10,7))\n",
    "# plt.plot(omega, gamma);\n",
    "\n",
    "# gamma\n",
    "\n",
    "print(f\"\"\"\\\n",
    "\\33[1m\\33[34mCalculated:\\33[0m\n",
    "->\\33[1m Decay-rate\\33[0m = {gamma:.2e} 1/us\n",
    "->\\33[1m Lifetime\\33[0m   = {1e-3/gamma:.2f} ms\n",
    "->\\33[1m Qubit-freq\\33[0m = {w10/1e3:.2f} GHz\n",
    "\n",
    "\\33[1m\\33[34mGiven:\\33[0m\n",
    "->\\33[1m delta\\33[0m = {delta}\n",
    "->\\33[1m Ec\\33[0m    = {Ec} MHz\n",
    "->\\33[1m Ej\\33[0m    = {Ej/1e3} Ghz\n",
    "->\\33[1m El\\33[0m    = {El} MHz\n",
    "->\\33[1m x_qp\\33[0m  = {x_qp}\n",
    "->\\33[1m phi0\\33[0m  = {phi0}\n",
    "->\\33[1m w_p\\33[0m   = {wp/1e3:.2f} GHz\n",
    "\"\"\")"
   ]
  },
  {
   "cell_type": "code",
   "execution_count": null,
   "metadata": {},
   "outputs": [],
   "source": []
  }
 ],
 "metadata": {
  "kernelspec": {
   "display_name": "Python 3",
   "language": "python",
   "name": "python3"
  },
  "language_info": {
   "codemirror_mode": {
    "name": "ipython",
    "version": 3
   },
   "file_extension": ".py",
   "mimetype": "text/x-python",
   "name": "python",
   "nbconvert_exporter": "python",
   "pygments_lexer": "ipython3",
   "version": "3.7.6"
  }
 },
 "nbformat": 4,
 "nbformat_minor": 4
}
