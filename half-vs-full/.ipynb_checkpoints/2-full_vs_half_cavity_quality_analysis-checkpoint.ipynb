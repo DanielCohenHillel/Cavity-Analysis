{
 "cells": [
  {
   "cell_type": "markdown",
   "metadata": {},
   "source": [
    "# Comparing the Quality and Loess between a Full and a Half Tesla Cavity Using the EPR approach\n",
    "Calculation of resonant cavity quality factors, losses, life-time and more using the EPR method. This code is based on [Ansys HFSS](https://www.ansys.com/products/electronics/ansys-hfss) and the [pyEPR library](https://github.com/zlatko-minev/pyEPR).\n",
    "\n",
    "The cavity is half of a [Tesla cavity](https://arxiv.org/pdf/physics/0003011.pdf), this will be usefule in a later notebook where we compare the full Tesla cavity to our (half Tesla) cavity."
   ]
  },
  {
   "cell_type": "markdown",
   "metadata": {},
   "source": [
    "#### Imports"
   ]
  },
  {
   "cell_type": "code",
   "execution_count": 1,
   "metadata": {},
   "outputs": [],
   "source": [
    "%load_ext autoreload\n",
    "%autoreload 2\n",
    "%config IPCompleter.greedy = True"
   ]
  },
  {
   "cell_type": "code",
   "execution_count": 2,
   "metadata": {},
   "outputs": [],
   "source": [
    "import sys\n",
    "import numpy as np\n",
    "from IPython.display import display, Math, Latex, display_markdown\n",
    "from pathlib import Path\n",
    "import pandas as pd\n",
    "from scipy import constants\n",
    "\n",
    "import pyEPR as epr\n",
    "from pyEPR.calcs import Convert\n",
    "from pyEPR.core import *\n",
    "from pyEPR.ansys import *\n",
    "import warnings\n",
    "warnings.simplefilter(\"ignore\")"
   ]
  },
  {
   "cell_type": "code",
   "execution_count": 3,
   "metadata": {},
   "outputs": [],
   "source": [
    "# path_to_project = 'D:\\\\Users\\\\Daniel\\\\Cavity-Analysis'\n",
    "path_to_project = '.'"
   ]
  },
  {
   "cell_type": "markdown",
   "metadata": {},
   "source": [
    "## 👉 Half Cavity\n",
    "We start with the interesting one, the half cavity. This is the cavity we're going to be using and we want to check that it isn't that much worse than the full Tesla cavity."
   ]
  },
  {
   "cell_type": "markdown",
   "metadata": {},
   "source": [
    "### 🔷 Mode analysis"
   ]
  },
  {
   "cell_type": "markdown",
   "metadata": {},
   "source": [
    "#### 🔹 Connect to HFSS"
   ]
  },
  {
   "cell_type": "code",
   "execution_count": 4,
   "metadata": {},
   "outputs": [
    {
     "name": "stderr",
     "output_type": "stream",
     "text": [
      "INFO 11:21AM [connect]: Connecting to Ansys Desktop API...\n",
      "INFO 11:21AM [load_ansys_project]: \tFile path to HFSS project found.\n",
      "INFO 11:21AM [load_ansys_project]: \tOpened Ansys App\n",
      "INFO 11:21AM [load_ansys_project]: \tOpened Ansys Desktop v2020.1.0\n",
      "INFO 11:21AM [load_ansys_project]: \tOpened Ansys Project\n",
      "\tFolder:    D:/Users/Daniel/Cavity-Analysis/\n",
      "\tProject:   Cavity Analysis\n",
      "INFO 11:21AM [connect]: \tOpened active design\n",
      "\tDesign:    half cav [Solution type: Eigenmode]\n",
      "INFO 11:21AM [get_setup]: \tOpened setup `setup`  (<class 'pyEPR.ansys.HfssEMSetup'>)\n",
      "INFO 11:21AM [connect]: \tConnection to Ansys established successfully. 😀 \n",
      "\n"
     ]
    }
   ],
   "source": [
    "pinfo = epr.Project_Info(project_path = path_to_project, \n",
    "                         project_name = 'Cavity Analysis',\n",
    "                         design_name  = 'half cav')"
   ]
  },
  {
   "cell_type": "code",
   "execution_count": 5,
   "metadata": {},
   "outputs": [
    {
     "name": "stderr",
     "output_type": "stream",
     "text": [
      "INFO 11:21AM [analyze]: Analyzing setup setup\n"
     ]
    },
    {
     "name": "stdout",
     "output_type": "stream",
     "text": [
      "Design \"half cav\" info:\n",
      "\t# eigenmodes    1\n",
      "\t# variations    2\n"
     ]
    }
   ],
   "source": [
    "pinfo.setup.analyze()\n",
    "eprh = epr.DistributedAnalysis(pinfo)"
   ]
  },
  {
   "cell_type": "markdown",
   "metadata": {},
   "source": [
    "#### 🔹 Get HFSS mode and quality results"
   ]
  },
  {
   "cell_type": "code",
   "execution_count": 6,
   "metadata": {},
   "outputs": [
    {
     "data": {
      "text/html": [
       "<div>\n",
       "<style scoped>\n",
       "    .dataframe tbody tr th:only-of-type {\n",
       "        vertical-align: middle;\n",
       "    }\n",
       "\n",
       "    .dataframe tbody tr th {\n",
       "        vertical-align: top;\n",
       "    }\n",
       "\n",
       "    .dataframe thead th {\n",
       "        text-align: right;\n",
       "    }\n",
       "</style>\n",
       "<table border=\"1\" class=\"dataframe\">\n",
       "  <thead>\n",
       "    <tr style=\"text-align: right;\">\n",
       "      <th></th>\n",
       "      <th>Freq. (GHz)</th>\n",
       "      <th>Quality Factor</th>\n",
       "    </tr>\n",
       "    <tr>\n",
       "      <th>mode</th>\n",
       "      <th></th>\n",
       "      <th></th>\n",
       "    </tr>\n",
       "  </thead>\n",
       "  <tbody>\n",
       "    <tr>\n",
       "      <th>0</th>\n",
       "      <td>4.069412</td>\n",
       "      <td>1248.378885</td>\n",
       "    </tr>\n",
       "  </tbody>\n",
       "</table>\n",
       "</div>"
      ],
      "text/plain": [
       "      Freq. (GHz)  Quality Factor\n",
       "mode                             \n",
       "0        4.069412     1248.378885"
      ]
     },
     "metadata": {},
     "output_type": "display_data"
    }
   ],
   "source": [
    "modes      = eprh.get_freqs_bare_pd(eprh.variations[0])\n",
    "Fs, Qs     = np.array(modes['Freq. (GHz)']), np.array(modes['Quality Factor'])  # Get freqs and Q-factors\n",
    "n_modes    = int(pinfo.setup.n_modes)\n",
    "display(modes)"
   ]
  },
  {
   "cell_type": "markdown",
   "metadata": {},
   "source": [
    "#### 🔹 Calculate the EPRs of the modes"
   ]
  },
  {
   "cell_type": "code",
   "execution_count": 7,
   "metadata": {},
   "outputs": [
    {
     "name": "stdout",
     "output_type": "stream",
     "text": [
      " 🔸 Energy in cavity = 95.995% -> 8.11e-17 of the total energy in the system\n",
      " 🔸 Energy in dirt   = 4.005% -> 3.38e-18 of the total energy in the system\n",
      " 🔸 Total energy     = 8.45e-17\n"
     ]
    }
   ],
   "source": [
    "eprh.set_mode(0)\n",
    "p_cavity, (ℰ_cav, ℰ_total) = eprh.calc_p_electric_volume('cavity')\n",
    "p_dirt,  (ℰ_dirt, ℰ_total) = eprh.calc_p_electric_volume('dirt')\n",
    "\n",
    "print(f' 🔸 Energy in cavity = {100*p_cavity:.3f}% -> {ℰ_cav:0.2e} of the total energy in the system')\n",
    "print(f' 🔸 Energy in dirt   = {100*p_dirt:.3f}% -> {ℰ_dirt:0.2e} of the total energy in the system')\n",
    "print(f' 🔸 Total energy     = {ℰ_total:0.2e}')"
   ]
  },
  {
   "cell_type": "markdown",
   "metadata": {},
   "source": [
    "### 🔷 Life-times"
   ]
  },
  {
   "cell_type": "markdown",
   "metadata": {},
   "source": [
    "**Life-time from HFSS**\n",
    "\n",
    "Life time of a mode inside the cavity. Since in this exampole the cavity is *perfect*, the life time would be infinite"
   ]
  },
  {
   "cell_type": "code",
   "execution_count": 8,
   "metadata": {},
   "outputs": [
    {
     "name": "stdout",
     "output_type": "stream",
     "text": [
      " 🔸 Life-time of mode = 0.000 ms\n"
     ]
    }
   ],
   "source": [
    "Fs_Hz  = np.array(Convert.toSI(Fs,'GHz'))  # Mode freqs in Hz\n",
    "omegas = 2*np.pi*Fs_Hz                     # Freqs to angular freqs\n",
    "taus   = Qs/omegas                         # Life times\n",
    "\n",
    "print(f' 🔸 Life-time of mode = {taus[0]*1e3:.3f} ms')  # Should be inf since no resistive boundry and just inside a vacuum"
   ]
  },
  {
   "cell_type": "markdown",
   "metadata": {},
   "source": [
    "**Life-time from EPR**\n",
    "\n",
    "Life time calculation with the EPR method. This is highly dependent on the loss tangent of the dirt and cavity."
   ]
  },
  {
   "cell_type": "code",
   "execution_count": 9,
   "metadata": {},
   "outputs": [
    {
     "name": "stdout",
     "output_type": "stream",
     "text": [
      " 🔸 Cavity life-time = inf ns\n",
      " 🔸 Dirt life-time   = 101.85 ns\n"
     ]
    }
   ],
   "source": [
    "tan_dirt   = 4e-7                                         # Loss tangent of dirt\n",
    "\n",
    "tau_epr    = lambda p, tan, omega: 1/(p*tan*omega)        # Easily calculate life time with EPR\n",
    "\n",
    "tau_cavity = tau_epr(p_dirt, 0, omegas)[0]\n",
    "tau_dirt   = tau_epr(p_cavity, tan_dirt, omegas)[0]\n",
    "\n",
    "print(f' 🔸 Cavity life-time = {tau_cavity*1e6:.2f} ns')  # Should be infinite since the cavity is a pefect vacum\n",
    "print(f' 🔸 Dirt life-time   = {tau_dirt*1e6:.2f} ns')"
   ]
  },
  {
   "cell_type": "markdown",
   "metadata": {},
   "source": [
    "### 🔷 Losses"
   ]
  },
  {
   "cell_type": "markdown",
   "metadata": {},
   "source": [
    "#### 🔹 Surface loss\n",
    "\n",
    "Calculating the energy precentage near the cavity walls by the surface integral. The total energy of the electromagnetic field at a layer of thickness `dirt_widht` would be approximated as:\n",
    "$$\\text{E}_{\\text{cavity, boundry}} \\approx \\text{dirt_width} \\cdot \\int_{S_{cavity}} |E|^2$$\n",
    "$$\\text{E}_{\\text{cavity, volume}} = \\int_{V_{cavity}} |E|^2$$\n",
    "\n",
    "$$\\text{EPR}_{\\text{cavity, boundry}} \\approx \\frac{\\text{E}_{\\text{cavity, boundry}}}{\\text{E}_{\\text{cavity, volume}}}$$"
   ]
  },
  {
   "cell_type": "markdown",
   "metadata": {},
   "source": [
    "First we'll setup a dictionary to store all the data"
   ]
  },
  {
   "cell_type": "code",
   "execution_count": 10,
   "metadata": {},
   "outputs": [],
   "source": [
    "data = {\n",
    "    \"half\":{\n",
    "        \"volume\":{\n",
    "            \n",
    "        },\n",
    "        \"surface\":{\n",
    "           \n",
    "        }\n",
    "    },\n",
    "    \"full\":{\n",
    "        \"volume\":{\n",
    "          \n",
    "        },\n",
    "        \"surface\":{\n",
    "           \n",
    "        }\n",
    "    }\n",
    "}"
   ]
  },
  {
   "cell_type": "code",
   "execution_count": 11,
   "metadata": {},
   "outputs": [
    {
     "name": "stdout",
     "output_type": "stream",
     "text": [
      " 🔸 EPR surface       = 1.54%\n",
      " 🔸 Q-factor surface  = 1.30e+04\n",
      " 🔸 Life-time surface = 5.07e-07 seconds \n",
      "\n"
     ]
    }
   ],
   "source": [
    "dirt_width = 0.1e-3\n",
    "eps        = 1\n",
    "tan_surf   = 5e-3\n",
    "\n",
    "eprh.set_mode(0)\n",
    "\n",
    "# --- Surface integral ---\n",
    "surf = 'cavity'\n",
    "calcobject = CalcObject([], eprh.setup)\n",
    "vecE = calcobject.getQty(\"E\").smooth()\n",
    "A = vecE.times_eps()\n",
    "B = vecE.conj()\n",
    "A = A.dot(B)\n",
    "A = A.real()\n",
    "A = A.integrate_surf(name=surf)\n",
    "\n",
    "E_subs = A.evaluate(lv=eprh._get_lv()) \n",
    "E_surf = E_subs*dirt_width*eps\n",
    "\n",
    "# --- Volume integral ---\n",
    "E_total = eprh.calc_energy_electric(smooth=True)\n",
    "\n",
    "p_surf = E_surf/E_total      # EPR of surface \n",
    "Q_surf = 1/tan_surf/p_surf   # Q-fact of surface\n",
    "tau_surf = Q_surf/omegas[0]  #  Life-time of surface\n",
    "\n",
    "data['half']['surface'] = {\n",
    "    \"EPR\": p_surf,\n",
    "    \"Q\":   Q_surf,\n",
    "    \"tau\":  tau_surf\n",
    "}\n",
    "\n",
    "print(f' 🔸 EPR surface       = {100*p_surf:.2f}%')\n",
    "print(f' 🔸 Q-factor surface  = {Q_surf:.2e}')\n",
    "print(f' 🔸 Life-time surface = {tau_surf:.2e} seconds \\n')\n"
   ]
  },
  {
   "cell_type": "markdown",
   "metadata": {},
   "source": [
    "#### 🔹 Dirt (volume) loss"
   ]
  },
  {
   "cell_type": "code",
   "execution_count": 12,
   "metadata": {},
   "outputs": [
    {
     "name": "stdout",
     "output_type": "stream",
     "text": [
      "  🔸 EPR of dirt    = 4.01% ( 3.38e-18 / 8.45e-17 )\n",
      "  🔸 Quality factor = 4.99e+03\n",
      "  🔸 life time      = 1.95e-07 seconds\n",
      "\n"
     ]
    }
   ],
   "source": [
    "# Dirt is simulated as much thicker than it actually is (for computation reason). \n",
    "# Beacuase of that we reduce the loss tangent to an 'effective loss tangent' which is loss_tan*thick_factor\n",
    "p_dirt, (ℰ_dirt, ℰ_total) = eprh.calc_p_electric_volume('dirt')\n",
    "Q_dirt = 1/(tan_surf*p_dirt)\n",
    "tau_dirt = Q_dirt/omegas[0]\n",
    "\n",
    "data['half']['volume'] = {\n",
    "    \"EPR\": p_dirt,\n",
    "    \"Q\":   Q_dirt,\n",
    "    \"tau\":  tau_dirt\n",
    "}\n",
    "\n",
    "print(f'  🔸 EPR of dirt    = {100*p_dirt:0.2f}% ( {ℰ_dirt:.2e} / {ℰ_total:.2e} )')\n",
    "print(f'  🔸 Quality factor = {Q_dirt:0.2e}')\n",
    "print(f'  🔸 life time      = {tau_dirt:0.2e} seconds\\n')"
   ]
  },
  {
   "cell_type": "markdown",
   "metadata": {},
   "source": [
    "## 👉 Full Cavity"
   ]
  },
  {
   "cell_type": "markdown",
   "metadata": {},
   "source": [
    "### 🔷 Mode analysis"
   ]
  },
  {
   "cell_type": "markdown",
   "metadata": {},
   "source": [
    "#### 🔹 Connect to HFSS"
   ]
  },
  {
   "cell_type": "code",
   "execution_count": 13,
   "metadata": {},
   "outputs": [
    {
     "name": "stderr",
     "output_type": "stream",
     "text": [
      "INFO 11:21AM [connect]: Connecting to Ansys Desktop API...\n",
      "INFO 11:21AM [load_ansys_project]: \tFile path to HFSS project found.\n",
      "INFO 11:21AM [load_ansys_project]: \tOpened Ansys App\n",
      "INFO 11:21AM [load_ansys_project]: \tOpened Ansys Desktop v2020.1.0\n",
      "INFO 11:21AM [load_ansys_project]: \tOpened Ansys Project\n",
      "\tFolder:    D:/Users/Daniel/Cavity-Analysis/\n",
      "\tProject:   Cavity Analysis\n",
      "INFO 11:21AM [connect]: \tOpened active design\n",
      "\tDesign:    full cav [Solution type: Eigenmode]\n",
      "INFO 11:21AM [get_setup]: \tOpened setup `setup`  (<class 'pyEPR.ansys.HfssEMSetup'>)\n",
      "INFO 11:21AM [connect]: \tConnection to Ansys established successfully. 😀 \n",
      "\n"
     ]
    }
   ],
   "source": [
    "pinfo_full = epr.Project_Info(project_path = path_to_project, \n",
    "                             project_name = 'Cavity Analysis',\n",
    "                             design_name  = 'full cav')"
   ]
  },
  {
   "cell_type": "code",
   "execution_count": 14,
   "metadata": {},
   "outputs": [
    {
     "name": "stderr",
     "output_type": "stream",
     "text": [
      "INFO 11:21AM [analyze]: Analyzing setup setup\n"
     ]
    },
    {
     "name": "stdout",
     "output_type": "stream",
     "text": [
      "Design \"full cav\" info:\n",
      "\t# eigenmodes    1\n",
      "\t# variations    2\n"
     ]
    }
   ],
   "source": [
    "pinfo_full.setup.analyze()\n",
    "eprh_full = epr.DistributedAnalysis(pinfo_full)"
   ]
  },
  {
   "cell_type": "markdown",
   "metadata": {},
   "source": [
    "#### 🔹 Get HFSS mode and quality results"
   ]
  },
  {
   "cell_type": "code",
   "execution_count": 15,
   "metadata": {},
   "outputs": [
    {
     "data": {
      "text/html": [
       "<div>\n",
       "<style scoped>\n",
       "    .dataframe tbody tr th:only-of-type {\n",
       "        vertical-align: middle;\n",
       "    }\n",
       "\n",
       "    .dataframe tbody tr th {\n",
       "        vertical-align: top;\n",
       "    }\n",
       "\n",
       "    .dataframe thead th {\n",
       "        text-align: right;\n",
       "    }\n",
       "</style>\n",
       "<table border=\"1\" class=\"dataframe\">\n",
       "  <thead>\n",
       "    <tr style=\"text-align: right;\">\n",
       "      <th></th>\n",
       "      <th>Freq. (GHz)</th>\n",
       "      <th>Quality Factor</th>\n",
       "    </tr>\n",
       "    <tr>\n",
       "      <th>mode</th>\n",
       "      <th></th>\n",
       "      <th></th>\n",
       "    </tr>\n",
       "  </thead>\n",
       "  <tbody>\n",
       "    <tr>\n",
       "      <th>0</th>\n",
       "      <td>4.236008</td>\n",
       "      <td>2552.281993</td>\n",
       "    </tr>\n",
       "  </tbody>\n",
       "</table>\n",
       "</div>"
      ],
      "text/plain": [
       "      Freq. (GHz)  Quality Factor\n",
       "mode                             \n",
       "0        4.236008     2552.281993"
      ]
     },
     "metadata": {},
     "output_type": "display_data"
    }
   ],
   "source": [
    "modes      = eprh_full.get_freqs_bare_pd(eprh_full.variations[0])\n",
    "Fs, Qs     = np.array(modes['Freq. (GHz)']), np.array(modes['Quality Factor'])  # Get freqs and Q-factors\n",
    "n_modes    = int(pinfo_full.setup.n_modes)\n",
    "display(modes)"
   ]
  },
  {
   "cell_type": "markdown",
   "metadata": {},
   "source": [
    "#### 🔹 Calculate the EPRs of the modes"
   ]
  },
  {
   "cell_type": "code",
   "execution_count": 16,
   "metadata": {},
   "outputs": [
    {
     "name": "stdout",
     "output_type": "stream",
     "text": [
      " 🔸 Energy in cavity = 98.041% -> 1.66e-16\n",
      " 🔸 Energy in dirt   = 1.959% -> 3.31e-18\n",
      " 🔸 Total energy     = 1.69e-16\n"
     ]
    }
   ],
   "source": [
    "eprh_full.set_mode(0)\n",
    "p_cavity, (ℰ_cav, ℰ_total) = eprh_full.calc_p_electric_volume('cavity')\n",
    "p_dirt, (ℰ_dirt, ℰ_total) = eprh_full.calc_p_electric_volume('dirt')\n",
    "\n",
    "print(f' 🔸 Energy in cavity = {100*p_cavity:.3f}% -> {ℰ_cav:0.2e}')\n",
    "print(f' 🔸 Energy in dirt   = {100*p_dirt:.3f}% -> {ℰ_dirt:0.2e}')\n",
    "print(f' 🔸 Total energy     = {ℰ_total:0.2e}')"
   ]
  },
  {
   "cell_type": "markdown",
   "metadata": {},
   "source": [
    "### 🔷 Life-times"
   ]
  },
  {
   "cell_type": "markdown",
   "metadata": {},
   "source": [
    "**Life-time from HFSS**"
   ]
  },
  {
   "cell_type": "code",
   "execution_count": 17,
   "metadata": {},
   "outputs": [
    {
     "name": "stdout",
     "output_type": "stream",
     "text": [
      " 🔸 Life-time of mode = 0.000 ms\n"
     ]
    }
   ],
   "source": [
    "Fs_Hz  = np.array(Convert.toSI(Fs,'GHz'))  # Mode freqs in Hz\n",
    "omegas = 2*np.pi*Fs_Hz                     # Freqs to angular freqs\n",
    "taus   = Qs/omegas                         # Life times\n",
    "\n",
    "print(f' 🔸 Life-time of mode = {taus[0]*1e3:.3f} ms')"
   ]
  },
  {
   "cell_type": "markdown",
   "metadata": {},
   "source": [
    "**Life-time from EPR**"
   ]
  },
  {
   "cell_type": "code",
   "execution_count": 18,
   "metadata": {},
   "outputs": [
    {
     "name": "stdout",
     "output_type": "stream",
     "text": [
      " 🔸 Cavity life-time = inf ns\n",
      " 🔸 Dirt life-time   = 95.81 ns\n"
     ]
    }
   ],
   "source": [
    "tan_dirt = 4e-7  # Loss tangent of dirt\n",
    "\n",
    "tau_epr = lambda p, tan, omega: 1/(p*tan*omega)  # Easily calculate life time with EPR\n",
    "\n",
    "tau_cavity = tau_epr(p_dirt, 0, omegas)[0]\n",
    "tau_dirt = tau_epr(p_cavity, tan_dirt, omegas)[0]\n",
    "\n",
    "print(f' 🔸 Cavity life-time = {tau_cavity*1e6:.2f} ns')  # Should be infinite since the cavity is a pefect vacum\n",
    "print(f' 🔸 Dirt life-time   = {tau_dirt*1e6:.2f} ns')"
   ]
  },
  {
   "cell_type": "markdown",
   "metadata": {},
   "source": [
    "### 🔷 Losses"
   ]
  },
  {
   "cell_type": "markdown",
   "metadata": {},
   "source": [
    "#### 🔹 Surface loss"
   ]
  },
  {
   "cell_type": "code",
   "execution_count": 19,
   "metadata": {},
   "outputs": [
    {
     "name": "stdout",
     "output_type": "stream",
     "text": [
      " 🔸 EPR surface       = 0.70%\n",
      " 🔸 Q-factor surface  = 2.86e+04\n",
      " 🔸 Life-time surface = 1.07e-06 seconds \n",
      "\n"
     ]
    }
   ],
   "source": [
    "eprh_full.set_mode(0)\n",
    "\n",
    "# --- Surface integral ---\n",
    "surf = 'cavity'\n",
    "calcobject = CalcObject([], eprh_full.setup)\n",
    "vecE = calcobject.getQty(\"E\").smooth()\n",
    "A = vecE.times_eps()\n",
    "B = vecE.conj()\n",
    "A = A.dot(B)\n",
    "A = A.real()\n",
    "A = A.integrate_surf(name=surf)\n",
    "\n",
    "E_subs = A.evaluate(lv=eprh_full._get_lv()) \n",
    "E_surf = E_subs*dirt_width*eps\n",
    "\n",
    "# --- Volume integral ---\n",
    "E_total = eprh_full.calc_energy_electric(smooth=True)\n",
    "\n",
    "p_surf = E_surf/E_total      # EPR of surface \n",
    "Q_surf = 1/tan_surf/p_surf   # Q-fact of surface\n",
    "tau_surf = Q_surf/omegas[0]  #  Life-time of surface\n",
    "\n",
    "data['full']['surface'] = {\n",
    "    \"EPR\":  p_surf,\n",
    "    \"Q\":    Q_surf,\n",
    "    \"tau\":  tau_surf\n",
    "}\n",
    "\n",
    "print(f' 🔸 EPR surface       = {100*p_surf:.2f}%')\n",
    "print(f' 🔸 Q-factor surface  = {Q_surf:.2e}')\n",
    "print(f' 🔸 Life-time surface = {tau_surf:.2e} seconds \\n')"
   ]
  },
  {
   "cell_type": "markdown",
   "metadata": {},
   "source": [
    "#### 🔹 Dirt (volume) loss"
   ]
  },
  {
   "cell_type": "code",
   "execution_count": 20,
   "metadata": {},
   "outputs": [
    {
     "name": "stdout",
     "output_type": "stream",
     "text": [
      "  🔸 EPR of dirt    = 1.96% ( 3.31e-18 / 1.69e-16 )\n",
      "  🔸 Quality factor = 1.02e+04\n",
      "  🔸 life time      = 3.84e-07 seconds\n",
      "\n"
     ]
    }
   ],
   "source": [
    "# Dirt is simulated as much thicker than it actually is (for computation reason). \n",
    "# Beacuase of that we reduce the loss tangent to an 'effective loss tangent' which is loss_tan*thick_factor\n",
    "p_dirt, (ℰ_dirt, ℰ_total) = eprh_full.calc_p_electric_volume('dirt')\n",
    "Q_dirt = 1/(tan_surf*p_dirt)\n",
    "tau_dirt = Q_dirt/omegas[0]\n",
    "\n",
    "data['full']['volume'] = {\n",
    "    \"EPR\":  p_dirt,\n",
    "    \"Q\":    Q_dirt,\n",
    "    \"tau\":  tau_dirt\n",
    "}\n",
    "\n",
    "print(f'  🔸 EPR of dirt    = {100*p_dirt:0.2f}% ( {ℰ_dirt:.2e} / {ℰ_total:.2e} )')\n",
    "print(f'  🔸 Quality factor = {Q_dirt:0.2e}')\n",
    "print(f'  🔸 life time      = {tau_dirt:0.2e} seconds\\n')"
   ]
  },
  {
   "cell_type": "markdown",
   "metadata": {},
   "source": [
    "## Conclusion 🎉\n",
    "We'll compare the full cavity to the half cavity now. First with the surface integral calculation, then with the volume calculation and finally we'll compare the two approaches (that should yield roughly the same result). We'll calculate the ratio between the full cavity calculated parameters and half cavity calculated parameters. "
   ]
  },
  {
   "cell_type": "code",
   "execution_count": 21,
   "metadata": {},
   "outputs": [
    {
     "name": "stdout",
     "output_type": "stream",
     "text": [
      "══════════ 🎉 Results 🎉 ══════════\n",
      "Ratio full-to-half cavity parameters\n",
      "\n",
      "\t─── Surface integral ───\n",
      "  🔸 EPR:       0.454\n",
      "  🔸 Q-factor:  2.204\n",
      "  🔸 Life-time: 2.117\n",
      "\n",
      "\t─── Volume integral ───\n",
      "  🔸 EPR:       0.489\n",
      "  🔸 Q-factor:  2.044\n",
      "  🔸 Life-time: 1.964\n",
      "\n",
      "\t─── Volume v Surface ───\n",
      "  🔸 EPR:       0.928\n",
      "  🔸 Q-factor:  1.078\n",
      "  🔸 Life-time: 1.078\n"
     ]
    }
   ],
   "source": [
    "# ═══ Surface integral ═══\n",
    "EPR_ratio_surf  = data['full']['surface']['EPR']/data['half']['surface']['EPR']\n",
    "Q_ratio_surf    = data['full']['surface']['Q']/data['half']['surface']['Q']\n",
    "tau_ratio_surf  = data['full']['surface']['tau']/data['half']['surface']['tau']\n",
    "\n",
    "# ═══ Volume integral ═══\n",
    "EPR_ratio_vol   = data['full']['volume']['EPR']/data['half']['volume']['EPR']\n",
    "Q_ratio_vol     = data['full']['volume']['Q']/data['half']['volume']['Q']\n",
    "tau_ratio_vol   = data['full']['volume']['tau']/data['half']['volume']['tau']\n",
    "\n",
    "# ═══ Volume vs Surface ═══\n",
    "EPR_surf_vol    = EPR_ratio_surf/EPR_ratio_vol\n",
    "Q_surf_vol      = Q_ratio_surf/Q_ratio_vol\n",
    "tau_surf_vol    = tau_ratio_surf/tau_ratio_vol\n",
    "\n",
    "print('═'*10, '🎉 Results 🎉', '═'*10)\n",
    "print('Ratio full-to-half cavity parameters\\n')\n",
    "print('\\t─── Surface integral ───')\n",
    "print(f'  🔸 EPR:       {EPR_ratio_surf:.3f}')\n",
    "print(f'  🔸 Q-factor:  {Q_ratio_surf:.3f}')\n",
    "print(f'  🔸 Life-time: {tau_ratio_surf:.3f}\\n')\n",
    "\n",
    "print('\\t─── Volume integral ───')\n",
    "print(f'  🔸 EPR:       {EPR_ratio_vol:.3f}')\n",
    "print(f'  🔸 Q-factor:  {Q_ratio_vol:.3f}')\n",
    "print(f'  🔸 Life-time: {tau_ratio_vol:.3f}\\n')\n",
    "\n",
    "print('\\t─── Volume v Surface ───')\n",
    "print(f'  🔸 EPR:       {EPR_surf_vol:.3f}')\n",
    "print(f'  🔸 Q-factor:  {Q_surf_vol:.3f}')\n",
    "print(f'  🔸 Life-time: {tau_surf_vol:.3f}')"
   ]
  },
  {
   "cell_type": "code",
   "execution_count": 28,
   "metadata": {},
   "outputs": [
    {
     "name": "stdout",
     "output_type": "stream",
     "text": [
      "Ratio surface to volume of EPR\n",
      "  🔸 Half cavity:  0.385\n",
      "  🔸 Full cavity:  0.357\n"
     ]
    }
   ],
   "source": [
    "print('Ratio surface to volume of EPR')\n",
    "print(f'  🔸 Half cavity:  {data[\"half\"][\"surface\"][\"EPR\"]/data[\"half\"][\"volume\"][\"EPR\"]:.3f}')  # <-- Good\n",
    "print(f'  🔸 Full cavity:  {data[\"full\"][\"surface\"][\"EPR\"]/data[\"full\"][\"volume\"][\"EPR\"]:.3f}')  # <-- Bad"
   ]
  },
  {
   "cell_type": "code",
   "execution_count": 47,
   "metadata": {},
   "outputs": [
    {
     "name": "stdout",
     "output_type": "stream",
     "text": [
      "\t─── Full ───\n",
      "EPR        = 1.33%\n",
      "Q-factor   = 1.94e+04\n",
      "Life-time  = 7.28e+02ns\n",
      "\n",
      "\t─── Half ───\n",
      "EPR        = 2.77%\n",
      "Q-factor   = 8.98e+03\n",
      "Life-time  = 3.51e+02 ns\n"
     ]
    }
   ],
   "source": [
    "print('\\t─── Full ───')\n",
    "print(f'EPR        = {np.average([data[\"full\"][\"surface\"][\"EPR\"], data[\"full\"][\"volume\"][\"EPR\"]])*100:.2f}%')\n",
    "print(f'Q-factor   = {np.average([data[\"full\"][\"surface\"][\"Q\"], data[\"full\"][\"volume\"][\"Q\"]]):.2e}')\n",
    "print(f'Life-time  = {np.average([data[\"full\"][\"surface\"][\"tau\"], data[\"full\"][\"volume\"][\"tau\"]])*1e9:.2e}ns')\n",
    "\n",
    "print('\\n\\t─── Half ───')\n",
    "print(f'EPR        = {np.average([data[\"half\"][\"surface\"][\"EPR\"], data[\"half\"][\"volume\"][\"EPR\"]])*100:.2f}%')\n",
    "print(f'Q-factor   = {np.average([data[\"half\"][\"surface\"][\"Q\"], data[\"half\"][\"volume\"][\"Q\"]]):.2e}')\n",
    "print(f'Life-time  = {np.average([data[\"half\"][\"surface\"][\"tau\"], data[\"half\"][\"volume\"][\"tau\"]])*1e9:.2e} ns')"
   ]
  },
  {
   "cell_type": "code",
   "execution_count": 35,
   "metadata": {},
   "outputs": [
    {
     "data": {
      "text/plain": [
       "0.019590281694566412"
      ]
     },
     "execution_count": 35,
     "metadata": {},
     "output_type": "execute_result"
    }
   ],
   "source": [
    "data[\"full\"][\"volume\"][\"EPR\"]"
   ]
  },
  {
   "cell_type": "code",
   "execution_count": 23,
   "metadata": {},
   "outputs": [
    {
     "name": "stdout",
     "output_type": "stream",
     "text": [
      "\t \u001b[4mRaw data\u001b[0m\n",
      "{'full': {'surface': {'EPR': 0.007001279686534065,\n",
      "                      'Q': 28566.20631577834,\n",
      "                      'tau': 1.0732870954920978e-06},\n",
      "          'volume': {'EPR': 0.019590281694566412,\n",
      "                     'Q': 10209.143651848164,\n",
      "                     'tau': 3.835770846302925e-07}},\n",
      " 'half': {'surface': {'EPR': 0.015428110159270167,\n",
      "                      'Q': 12963.35052934708,\n",
      "                      'tau': 5.069973700805057e-07},\n",
      "          'volume': {'EPR': 0.04005192421841798,\n",
      "                     'Q': 4993.51788716382,\n",
      "                     'tau': 1.9529676610307113e-07}}}\n"
     ]
    }
   ],
   "source": [
    "import pprint\n",
    "print('\\t \\33[4mRaw data\\33[0m')\n",
    "pprint.pprint(data)"
   ]
  },
  {
   "cell_type": "code",
   "execution_count": 24,
   "metadata": {},
   "outputs": [],
   "source": [
    "pinfo.disconnect()\n",
    "pinfo_full.disconnect()"
   ]
  },
  {
   "cell_type": "markdown",
   "metadata": {},
   "source": [
    "## Notes on the design 📝\n",
    "To simplify the problem as much as possible, the cavity is just a 'squashed' circle.\n",
    "\n",
    "**Create cavity:** The steps to create the cavity are as follows:\n",
    "  * Create an elipse with it's major axis being the radius of the cavity, and the minor axis the 'squashed' radius.\n",
    "  * Create a rectengle in the plane of the cavity so that the intersection between the elipse and the rectangle is half of the elipse (symetric along the minor axis)\n",
    "  * Select the rectangel and elipse and choose `Draw`->`Intersect`, creating a new object that is the intersect between them.\n",
    "  * Choose the newly created object and click on `Draw`->`sweep around axis` (the folding sheet icon) to create a 3D 'squashed' circle.\n",
    "\n",
    "To create the half cavity, all you need is to move around the intersecting rectange so you're left with a quarter of the original elipse.\n",
    "\n",
    "\n",
    "**Create dirt:** To create the dirt with constant width, the easiest method is by following these steps:\n",
    "  * Duplicate the cavity object once\n",
    "  * Right click on the duplicate in the side-bar and choose `Select`->`All Faces`.\n",
    "  * Once all the faces are selected you can press `Draw`->`Surface`->`Move Faces Along Normal`, a window will pop up promting you the write a distance, this would be the thickness of the dirt `dirt_width` (make sure it's a negative number).\n",
    "  * Take the newly created smaller cavity and duplicate it, this would be the vacuum. Now select the original cavity (the big one) and one of the smaller ones together and press `Draw`->`Subtract` (make sure to do so in the correct order), this would make a new object which will be our dirt.\n",
    " \n",
    " You should be left with one object being the cavity and one object being the dirt.\n",
    " \n",
    " $\\dagger$ Make sure that the cavity and the dirt don't intersect, if they do, you might get wildly wrong solutions\n",
    "  "
   ]
  }
 ],
 "metadata": {
  "kernelspec": {
   "display_name": "Python 3",
   "language": "python",
   "name": "python3"
  },
  "language_info": {
   "codemirror_mode": {
    "name": "ipython",
    "version": 3
   },
   "file_extension": ".py",
   "mimetype": "text/x-python",
   "name": "python",
   "nbconvert_exporter": "python",
   "pygments_lexer": "ipython3",
   "version": "3.8.1"
  }
 },
 "nbformat": 4,
 "nbformat_minor": 4
}
