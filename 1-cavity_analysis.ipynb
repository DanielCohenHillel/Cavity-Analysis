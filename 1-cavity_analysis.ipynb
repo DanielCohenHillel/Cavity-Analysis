{
 "cells": [
  {
   "cell_type": "markdown",
   "metadata": {},
   "source": [
    "# Cavity Quality and Losses by the Energy Participation Ratio (EPR) method\n",
    "Calculation of resonant cavity quality factors, losses, life-time and more using the EPR method. This code is based on [Ansys HFSS](https://www.ansys.com/products/electronics/ansys-hfss) and the [pyEPR library](https://github.com/zlatko-minev/pyEPR).\n",
    "\n",
    "The cavity is half of a [Tesla cavity](https://arxiv.org/pdf/physics/0003011.pdf), this will be usefule in a later notebook where we compare the full Tesla cavity to our (half Tesla) cavity."
   ]
  },
  {
   "cell_type": "markdown",
   "metadata": {},
   "source": [
    "#### Imports"
   ]
  },
  {
   "cell_type": "code",
   "execution_count": 1,
   "metadata": {},
   "outputs": [],
   "source": [
    "%load_ext autoreload\n",
    "%autoreload 2\n",
    "%config IPCompleter.greedy = True"
   ]
  },
  {
   "cell_type": "code",
   "execution_count": 2,
   "metadata": {},
   "outputs": [],
   "source": [
    "import sys\n",
    "import numpy as np\n",
    "from IPython.display import display, Math, Latex, display_markdown\n",
    "from pathlib import Path\n",
    "import pandas as pd\n",
    "from scipy import constants\n",
    "\n",
    "import pyEPR as epr\n",
    "from pyEPR.calcs import Convert\n",
    "from pyEPR.core import *\n",
    "from pyEPR.ansys import *\n",
    "import warnings\n",
    "warnings.simplefilter(\"ignore\")"
   ]
  },
  {
   "cell_type": "code",
   "execution_count": 3,
   "metadata": {},
   "outputs": [],
   "source": [
    "path_to_project = 'D:\\\\Users\\\\Daniel\\\\pyEPR-Test\\\\SRF_cavity'"
   ]
  },
  {
   "cell_type": "markdown",
   "metadata": {},
   "source": [
    "### 🔷 Mode analysis"
   ]
  },
  {
   "cell_type": "markdown",
   "metadata": {},
   "source": [
    "#### 🔹 Connect to HFSS"
   ]
  },
  {
   "cell_type": "code",
   "execution_count": 4,
   "metadata": {},
   "outputs": [
    {
     "name": "stderr",
     "output_type": "stream",
     "text": [
      "INFO 07:33PM [connect]: Connecting to Ansys Desktop API...\n",
      "INFO 07:33PM [load_ansys_project]: \tFile path to HFSS project found.\n",
      "INFO 07:33PM [load_ansys_project]: \tOpened Ansys App\n",
      "INFO 07:33PM [load_ansys_project]: \tOpened Ansys Desktop v2020.1.0\n",
      "INFO 07:33PM [load_ansys_project]: \tOpened Ansys Project\n",
      "\tFolder:    D:/Users/Daniel/\n",
      "\tProject:   model\n",
      "INFO 07:33PM [connect]: \tOpened active design\n",
      "\tDesign:    dirt loss [Solution type: Eigenmode]\n",
      "INFO 07:33PM [get_setup]: \tOpened setup `Setup1`  (<class 'pyEPR.ansys.HfssEMSetup'>)\n",
      "INFO 07:33PM [connect]: \tConnection to Ansys established successfully. 😀 \n",
      "\n"
     ]
    }
   ],
   "source": [
    "pinfo = epr.Project_Info(project_path = path_to_project, \n",
    "                         project_name = 'model',\n",
    "                         design_name  = 'dirt loss')"
   ]
  },
  {
   "cell_type": "markdown",
   "metadata": {},
   "source": [
    "#### 🔹 Define non-linear objects"
   ]
  },
  {
   "cell_type": "code",
   "execution_count": 5,
   "metadata": {},
   "outputs": [],
   "source": [
    "pinfo.junctions['j1'] = {'Lj_variable' : 'Lj_1', \n",
    "                         'rect'        : 'rect_jj1', \n",
    "                         'line'        : 'line_jj1', \n",
    "                         'length'      : epr.parse_units('10um')}\n",
    "\n",
    "pinfo.validate_junction_info()  \n",
    "pinfo.dissipative.dielectrics_bulk = ['chip'] "
   ]
  },
  {
   "cell_type": "code",
   "execution_count": 6,
   "metadata": {},
   "outputs": [
    {
     "name": "stderr",
     "output_type": "stream",
     "text": [
      "INFO 07:33PM [analyze]: Analyzing setup Setup1\n"
     ]
    },
    {
     "name": "stdout",
     "output_type": "stream",
     "text": [
      "Design \"dirt loss\" info:\n",
      "\t# eigenmodes    2\n",
      "\t# variations    1\n"
     ]
    }
   ],
   "source": [
    "pinfo.setup.analyze()\n",
    "eprh = epr.DistributedAnalysis(pinfo)"
   ]
  },
  {
   "cell_type": "markdown",
   "metadata": {},
   "source": [
    "#### 🔹 Get HFSS mode and quality results"
   ]
  },
  {
   "cell_type": "code",
   "execution_count": 7,
   "metadata": {},
   "outputs": [
    {
     "data": {
      "text/html": [
       "<div>\n",
       "<style scoped>\n",
       "    .dataframe tbody tr th:only-of-type {\n",
       "        vertical-align: middle;\n",
       "    }\n",
       "\n",
       "    .dataframe tbody tr th {\n",
       "        vertical-align: top;\n",
       "    }\n",
       "\n",
       "    .dataframe thead th {\n",
       "        text-align: right;\n",
       "    }\n",
       "</style>\n",
       "<table border=\"1\" class=\"dataframe\">\n",
       "  <thead>\n",
       "    <tr style=\"text-align: right;\">\n",
       "      <th></th>\n",
       "      <th>Freq. (GHz)</th>\n",
       "      <th>Quality Factor</th>\n",
       "    </tr>\n",
       "    <tr>\n",
       "      <th>mode</th>\n",
       "      <th></th>\n",
       "      <th></th>\n",
       "    </tr>\n",
       "  </thead>\n",
       "  <tbody>\n",
       "    <tr>\n",
       "      <th>0</th>\n",
       "      <td>4.849791</td>\n",
       "      <td>1.150770e+11</td>\n",
       "    </tr>\n",
       "    <tr>\n",
       "      <th>1</th>\n",
       "      <td>6.714454</td>\n",
       "      <td>3.895691e+06</td>\n",
       "    </tr>\n",
       "  </tbody>\n",
       "</table>\n",
       "</div>"
      ],
      "text/plain": [
       "      Freq. (GHz)  Quality Factor\n",
       "mode                             \n",
       "0        4.849791    1.150770e+11\n",
       "1        6.714454    3.895691e+06"
      ]
     },
     "metadata": {},
     "output_type": "display_data"
    }
   ],
   "source": [
    "modes      = eprh.get_freqs_bare_pd(eprh.variations[0])\n",
    "Fs, Qs     = np.array(modes['Freq. (GHz)']), np.array(modes['Quality Factor'])  # Get freqs and Q-factors\n",
    "mode_names = ['cavity','transmon']\n",
    "n_modes    = int(pinfo.setup.n_modes)\n",
    "display(modes)"
   ]
  },
  {
   "cell_type": "markdown",
   "metadata": {},
   "source": [
    "#### 🔹 EPR analysis"
   ]
  },
  {
   "cell_type": "code",
   "execution_count": 8,
   "metadata": {},
   "outputs": [
    {
     "name": "stdout",
     "output_type": "stream",
     "text": [
      "\n",
      "Variation 0  [1/1]\n",
      "\n",
      "  \u001b[1mMode 0 at 4.85 GHz   [1/2]\u001b[0m\n",
      "    Calculating ℰ_magnetic,ℰ_electric\n",
      "       (ℰ_E-ℰ_H)/ℰ_E       ℰ_E       ℰ_H\n",
      "                0.0%  2.507e-19 2.507e-19\n",
      "\n",
      "    Calculating junction energy participation ration (EPR)\n",
      "\tmethod=`line_voltage`. First estimates:\n",
      "\tjunction        EPR p_0j   sign s_0j    (p_capacitive)\n",
      "\t\tEnergy fraction (Lj over Lj&Cj)= 98.54%\n",
      "\tj1              8.02087e-06  (+)        1.19165e-07\n",
      "\t\t(U_tot_cap-U_tot_ind)/mean=0.00%\n",
      "Calculating Qdielectric_chip for mode 0 (0/1)\n",
      "p_dielectric_chip_0 = 2.16557054700636e-05\n",
      "\n",
      "  \u001b[1mMode 1 at 6.71 GHz   [2/2]\u001b[0m\n",
      "    Calculating ℰ_magnetic,ℰ_electric\n",
      "       (ℰ_E-ℰ_H)/ℰ_E       ℰ_E       ℰ_H\n",
      "               96.8%  1.153e-24 3.695e-26\n",
      "\n",
      "    Calculating junction energy participation ration (EPR)\n",
      "\tmethod=`line_voltage`. First estimates:\n",
      "\tjunction        EPR p_1j   sign s_1j    (p_capacitive)\n",
      "\t\tEnergy fraction (Lj over Lj&Cj)= 97.23%\n",
      "\tj1              0.965846  (+)        0.0275048\n",
      "\t\t(U_tot_cap-U_tot_ind)/mean=1.46%\n",
      "Calculating Qdielectric_chip for mode 1 (1/1)\n",
      "p_dielectric_chip_1 = 0.6417365678401288\n",
      "\n",
      "ANALYSIS DONE. Data saved to:\n",
      "\n",
      "D:\\data-pyEPR\\model\\dirt loss\\2020-05-14 19-45-55.npz\n",
      "\n",
      "\n"
     ]
    }
   ],
   "source": [
    "eprh.do_EPR_analysis(variations=eprh.variations[0]);"
   ]
  },
  {
   "cell_type": "markdown",
   "metadata": {},
   "source": [
    "#### 🔹 Quantum analysis"
   ]
  },
  {
   "cell_type": "code",
   "execution_count": 9,
   "metadata": {},
   "outputs": [
    {
     "name": "stderr",
     "output_type": "stream",
     "text": [
      "WARNING 07:46PM [__init__]: <p>Error: <class 'IndexError'></p>\n"
     ]
    },
    {
     "name": "stdout",
     "output_type": "stream",
     "text": [
      "\t Differences in variations:\n",
      "\n",
      "\n",
      "0, Starting the diagonalization\n",
      "Finished the diagonalization\n"
     ]
    }
   ],
   "source": [
    "epra = epr.QuantumAnalysis(eprh.data_filename)\n",
    "quantum_results = epra.analyze_all_variations(cos_trunc = 8, fock_trunc = 15, variations=eprh.variations[0], print_result=False);"
   ]
  },
  {
   "cell_type": "markdown",
   "metadata": {},
   "source": [
    "#### 🔹 Calculate the EPRs of the modes"
   ]
  },
  {
   "cell_type": "code",
   "execution_count": 10,
   "metadata": {},
   "outputs": [
    {
     "name": "stdout",
     "output_type": "stream",
     "text": [
      " 🔸 Cavity energy in sapphire substrate    = 0.002%\n",
      " 🔸 Transmon energy in sapphire substrate  = 64.174%\n"
     ]
    }
   ],
   "source": [
    "eprh.set_mode(0) # cavity mode\n",
    "p_dielectic_cavity, (ℰ_substr, ℰ_total) = eprh.calc_p_electric_volume('chip')\n",
    "\n",
    "eprh.set_mode(1) # transmon mode\n",
    "p_dielectic_transmon, (ℰ_substr, ℰ_total) = eprh.calc_p_electric_volume('chip')\n",
    "\n",
    "p_dielectrics = np.array([p_dielectic_cavity, p_dielectic_transmon])\n",
    "\n",
    "print(f' 🔸 Cavity energy in sapphire substrate    = {100*p_dielectic_cavity:.3f}%')\n",
    "print(f' 🔸 Transmon energy in sapphire substrate  = {100*p_dielectic_transmon:.3f}%')"
   ]
  },
  {
   "cell_type": "markdown",
   "metadata": {},
   "source": [
    "### 🔷 Life-times"
   ]
  },
  {
   "cell_type": "markdown",
   "metadata": {},
   "source": [
    "**Life-time from HFSS**"
   ]
  },
  {
   "cell_type": "code",
   "execution_count": 11,
   "metadata": {},
   "outputs": [
    {
     "name": "stdout",
     "output_type": "stream",
     "text": [
      " 🔸 Life-time of cavity mode = 3776.467 ms\n",
      " 🔸 Life-time of transmon mode = 0.092 ms\n"
     ]
    }
   ],
   "source": [
    "Fs_Hz  = np.array(Convert.toSI(Fs,'GHz'))  # Mode freqs in Hz\n",
    "omegas = 2*np.pi*Fs_Hz  # Freqs to angular freqs\n",
    "taus   = Qs/omegas  # Life times\n",
    "\n",
    "for n in range(n_modes):  # Loop over all modes\n",
    "    print(f' 🔸 Life-time of {mode_names[n]} mode = {taus[n]*1e3:.3f} ms')"
   ]
  },
  {
   "cell_type": "markdown",
   "metadata": {},
   "source": [
    "**Life-time from EPR**"
   ]
  },
  {
   "cell_type": "code",
   "execution_count": 12,
   "metadata": {},
   "outputs": [
    {
     "name": "stdout",
     "output_type": "stream",
     "text": [
      " 🔸 Cavity life-time   = 3788477.85 ns\n",
      " 🔸 Transmon life-time = 92.34 ns\n"
     ]
    }
   ],
   "source": [
    "tan_sapp = 4e-7  # Loss tangent of sapphire\n",
    "\n",
    "tau_epr = lambda p, tan, omega: 1/(p*tan*omega)  # Easily calculate life time with EPR\n",
    "\n",
    "tau_cavity, tau_transmon = tau_epr(p_dielectrics, tan_sapp, omegas)\n",
    "\n",
    "print(f' 🔸 Cavity life-time   = {tau_cavity*1e6:.2f} ns')\n",
    "print(f' 🔸 Transmon life-time = {tau_transmon*1e6:.2f} ns')"
   ]
  },
  {
   "cell_type": "markdown",
   "metadata": {},
   "source": [
    "### 🔷 Losses"
   ]
  },
  {
   "cell_type": "markdown",
   "metadata": {},
   "source": [
    "#### 🔹 Chip surface loss"
   ]
  },
  {
   "cell_type": "code",
   "execution_count": 13,
   "metadata": {},
   "outputs": [
    {
     "name": "stdout",
     "output_type": "stream",
     "text": [
      "  cavity\n",
      "══════════\n",
      " 🔸 EPR on chip surface    = 0.00000072%\n",
      " 🔸 Q-factor chip surface  = 27764.4 M\n",
      " 🔸 Life-time chip surface = 911.1414 ms\n",
      "\n",
      "  transmon\n",
      "════════════\n",
      " 🔸 EPR on chip surface    = 0.02050689%\n",
      " 🔸 Q-factor chip surface  = 1.0 M\n",
      " 🔸 Life-time chip surface = 0.0231 ms\n",
      "\n"
     ]
    }
   ],
   "source": [
    "t        = 3e-9\n",
    "eps      = 10\n",
    "tan_surf = 5e-3\n",
    "for n in range(n_modes):\n",
    "    print(f'  {mode_names[n]}\\n'+'═'*(len(mode_names[n])+4))\n",
    "    eprh.set_mode(n)\n",
    "\n",
    "    # --- Surface integral ---\n",
    "    E_surf = 0\n",
    "    for surf in ['chip_bottom','chip_top']:\n",
    "        calcobject = CalcObject([], eprh.setup)\n",
    "        vecE = calcobject.getQty(\"E\").smooth()\n",
    "        A = vecE.times_eps()\n",
    "        B = vecE.conj()\n",
    "        A = A.dot(B)\n",
    "        A = A.real()\n",
    "        A = A.integrate_surf(name=surf)\n",
    "\n",
    "        E_subs = A.evaluate(lv=eprh._get_lv()) \n",
    "        E_surf += E_subs*t*eps\n",
    "\n",
    "    # --- Volume integral ---\n",
    "    E_total = eprh.calc_energy_electric(smooth=True)\n",
    "\n",
    "    p_surf = E_surf/E_total      # EPR of surface \n",
    "    Q_surf = 1/tan_surf/p_surf   # Q-fact of surface\n",
    "    tau_surf = Q_surf/omegas[n]  #  Life-time of surface\n",
    "    \n",
    "\n",
    "    print(f' 🔸 EPR on chip surface    = {100*p_surf:.8f}%')\n",
    "    print(f' 🔸 Q-factor chip surface  = {1e-6*Q_surf:.1f} M')\n",
    "    print(f' 🔸 Life-time chip surface = {1e3*tau_surf:.4f} ms\\n')\n"
   ]
  },
  {
   "cell_type": "markdown",
   "metadata": {},
   "source": [
    "#### 🔹 Cavity surface loss"
   ]
  },
  {
   "cell_type": "code",
   "execution_count": 15,
   "metadata": {},
   "outputs": [
    {
     "name": "stdout",
     "output_type": "stream",
     "text": [
      "  cavity\n",
      "══════════\n",
      " 🔸 EPR on cav surface    = 0.00040158%\n",
      " 🔸 Q-factor cav surface  = 49.8 M\n",
      " 🔸 Life-time cav surface = 1.6344 ms\n",
      "\n",
      "  transmon\n",
      "════════════\n",
      " 🔸 EPR on cav surface    = 0.00820800%\n",
      " 🔸 Q-factor cav surface  = 2.4 M\n",
      " 🔸 Life-time cav surface = 0.0578 ms\n",
      "\n"
     ]
    }
   ],
   "source": [
    "for n in range(n_modes):\n",
    "    print(f'  {mode_names[n]}\\n'+'═'*(len(mode_names[n])+4))\n",
    "    eprh.set_mode(n)\n",
    "\n",
    "    # --- Surface integral ---\n",
    "    surf = 'cavity_1'\n",
    "    calcobject = CalcObject([], eprh.setup)\n",
    "    vecE = calcobject.getQty(\"E\").smooth()\n",
    "    A = vecE.times_eps()\n",
    "    B = vecE.conj()\n",
    "    A = A.dot(B)\n",
    "    A = A.real()\n",
    "    A = A.integrate_surf(name=surf)\n",
    "\n",
    "    E_subs = A.evaluate(lv=eprh._get_lv()) \n",
    "    E_surf = E_subs*t*eps\n",
    "\n",
    "    # --- Volume integral ---\n",
    "    E_total = eprh.calc_energy_electric(smooth=True)\n",
    "\n",
    "    p_surf = E_surf/E_total      # EPR of surface \n",
    "    Q_surf = 1/tan_surf/p_surf   # Q-fact of surface\n",
    "    tau_surf = Q_surf/omegas[n]  #  Life-time of surface\n",
    "    \n",
    "\n",
    "    print(f' 🔸 EPR on cav surface    = {100*p_surf:.8f}%')\n",
    "    print(f' 🔸 Q-factor cav surface  = {1e-6*Q_surf:.1f} M')\n",
    "    print(f' 🔸 Life-time cav surface = {1e3*tau_surf:.4f} ms\\n')\n"
   ]
  },
  {
   "cell_type": "markdown",
   "metadata": {},
   "source": [
    "#### 🔹 Dirt (volume) loss"
   ]
  },
  {
   "cell_type": "code",
   "execution_count": 17,
   "metadata": {},
   "outputs": [
    {
     "name": "stdout",
     "output_type": "stream",
     "text": [
      "  cavity\n",
      "══════════\n",
      "  🔸 EPR of dirt    = 6.88e-08 ( 3.45e-26 / 5.01e-19 )\n",
      "  🔸 Quality factor = 1.45e+08\n",
      "  🔸 life time      = 4.77e-03 μs\n",
      "\n",
      "  transmon\n",
      "════════════\n",
      "  🔸 EPR of dirt    = 4.58e-12 ( 1.06e-35 / 2.31e-24 )\n",
      "  🔸 Quality factor = 2.19e+12\n",
      "  🔸 life time      = 5.18e+01 μs\n",
      "\n"
     ]
    }
   ],
   "source": [
    "# Dirt is simulated as much thicker than it actually is (for computation reason). \n",
    "# Beacuase of that we reduce the loss tangent to an 'effective loss tangent' which is loss_tan*thick_factor\n",
    "thick_factor = 1\n",
    "tan_dirt     = 0.1  # dirt loss tangent\n",
    "\n",
    "for n in range(n_modes):  # Loop over all the modes\n",
    "    print(f'  {mode_names[n]}\\n'+'═'*(len(mode_names[n])+4))\n",
    "    eprh.set_mode(n)\n",
    "    p_dirt, (ℰ_dirt, ℰ_total) = eprh.calc_p_electric_volume('dirt_vol')\n",
    "    Q_dirt = 1/(thick_factor*tan_dirt*p_dirt)\n",
    "    tau_dirt = Q_dirt/omegas[n]\n",
    "    \n",
    "    print(f'  🔸 EPR of dirt    = {p_dirt:.2e} ( {ℰ_dirt:.2e} / {ℰ_total:.2e} )')\n",
    "    print(f'  🔸 Quality factor = {Q_dirt:.2e}')\n",
    "    print(f'  🔸 life time      = {tau_dirt:.2e} μs\\n')"
   ]
  },
  {
   "cell_type": "code",
   "execution_count": null,
   "metadata": {},
   "outputs": [],
   "source": [
    "# pinfo.disconnect()"
   ]
  },
  {
   "cell_type": "code",
   "execution_count": null,
   "metadata": {},
   "outputs": [],
   "source": []
  },
  {
   "cell_type": "code",
   "execution_count": null,
   "metadata": {},
   "outputs": [],
   "source": []
  }
 ],
 "metadata": {
  "kernelspec": {
   "display_name": "Python 3",
   "language": "python",
   "name": "python3"
  },
  "language_info": {
   "codemirror_mode": {
    "name": "ipython",
    "version": 3
   },
   "file_extension": ".py",
   "mimetype": "text/x-python",
   "name": "python",
   "nbconvert_exporter": "python",
   "pygments_lexer": "ipython3",
   "version": "3.8.1"
  }
 },
 "nbformat": 4,
 "nbformat_minor": 4
}
